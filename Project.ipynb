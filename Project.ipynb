{
 "cells": [
  {
   "cell_type": "markdown",
   "metadata": {},
   "source": [
    "**Importing the Training Dataset**\n",
    "\n",
    "This dataset consists of tweets and their classification of toxicity levels."
   ]
  },
  {
   "cell_type": "code",
   "execution_count": 32,
   "metadata": {},
   "outputs": [
    {
     "data": {
      "text/html": [
       "<div>\n",
       "<style scoped>\n",
       "    .dataframe tbody tr th:only-of-type {\n",
       "        vertical-align: middle;\n",
       "    }\n",
       "\n",
       "    .dataframe tbody tr th {\n",
       "        vertical-align: top;\n",
       "    }\n",
       "\n",
       "    .dataframe thead th {\n",
       "        text-align: right;\n",
       "    }\n",
       "</style>\n",
       "<table border=\"1\" class=\"dataframe\">\n",
       "  <thead>\n",
       "    <tr style=\"text-align: right;\">\n",
       "      <th></th>\n",
       "      <th>id</th>\n",
       "      <th>comment_text</th>\n",
       "      <th>toxic</th>\n",
       "      <th>severe_toxic</th>\n",
       "      <th>obscene</th>\n",
       "      <th>threat</th>\n",
       "      <th>insult</th>\n",
       "      <th>identity_hate</th>\n",
       "    </tr>\n",
       "  </thead>\n",
       "  <tbody>\n",
       "    <tr>\n",
       "      <th>0</th>\n",
       "      <td>0000997932d777bf</td>\n",
       "      <td>Explanation\\nWhy the edits made under my usern...</td>\n",
       "      <td>0</td>\n",
       "      <td>0</td>\n",
       "      <td>0</td>\n",
       "      <td>0</td>\n",
       "      <td>0</td>\n",
       "      <td>0</td>\n",
       "    </tr>\n",
       "    <tr>\n",
       "      <th>1</th>\n",
       "      <td>000103f0d9cfb60f</td>\n",
       "      <td>D'aww! He matches this background colour I'm s...</td>\n",
       "      <td>0</td>\n",
       "      <td>0</td>\n",
       "      <td>0</td>\n",
       "      <td>0</td>\n",
       "      <td>0</td>\n",
       "      <td>0</td>\n",
       "    </tr>\n",
       "    <tr>\n",
       "      <th>2</th>\n",
       "      <td>000113f07ec002fd</td>\n",
       "      <td>Hey man, I'm really not trying to edit war. It...</td>\n",
       "      <td>0</td>\n",
       "      <td>0</td>\n",
       "      <td>0</td>\n",
       "      <td>0</td>\n",
       "      <td>0</td>\n",
       "      <td>0</td>\n",
       "    </tr>\n",
       "    <tr>\n",
       "      <th>3</th>\n",
       "      <td>0001b41b1c6bb37e</td>\n",
       "      <td>\"\\nMore\\nI can't make any real suggestions on ...</td>\n",
       "      <td>0</td>\n",
       "      <td>0</td>\n",
       "      <td>0</td>\n",
       "      <td>0</td>\n",
       "      <td>0</td>\n",
       "      <td>0</td>\n",
       "    </tr>\n",
       "    <tr>\n",
       "      <th>4</th>\n",
       "      <td>0001d958c54c6e35</td>\n",
       "      <td>You, sir, are my hero. Any chance you remember...</td>\n",
       "      <td>0</td>\n",
       "      <td>0</td>\n",
       "      <td>0</td>\n",
       "      <td>0</td>\n",
       "      <td>0</td>\n",
       "      <td>0</td>\n",
       "    </tr>\n",
       "  </tbody>\n",
       "</table>\n",
       "</div>"
      ],
      "text/plain": [
       "                 id                                       comment_text  toxic  \\\n",
       "0  0000997932d777bf  Explanation\\nWhy the edits made under my usern...      0   \n",
       "1  000103f0d9cfb60f  D'aww! He matches this background colour I'm s...      0   \n",
       "2  000113f07ec002fd  Hey man, I'm really not trying to edit war. It...      0   \n",
       "3  0001b41b1c6bb37e  \"\\nMore\\nI can't make any real suggestions on ...      0   \n",
       "4  0001d958c54c6e35  You, sir, are my hero. Any chance you remember...      0   \n",
       "\n",
       "   severe_toxic  obscene  threat  insult  identity_hate  \n",
       "0             0        0       0       0              0  \n",
       "1             0        0       0       0              0  \n",
       "2             0        0       0       0              0  \n",
       "3             0        0       0       0              0  \n",
       "4             0        0       0       0              0  "
      ]
     },
     "execution_count": 32,
     "metadata": {},
     "output_type": "execute_result"
    }
   ],
   "source": [
    "import pandas as pd\n",
    "import numpy as np\n",
    "import matplotlib.pyplot as plt\n",
    "\n",
    "DATASET_ENCODING = \"ISO-8859-1\"\n",
    "dataframe = pd.read_csv(\"./Dataset/train.csv\", encoding = DATASET_ENCODING)\n",
    "dataframe.head()\n",
    "\n"
   ]
  },
  {
   "cell_type": "code",
   "execution_count": 33,
   "metadata": {},
   "outputs": [
    {
     "data": {
      "text/html": [
       "<div>\n",
       "<style scoped>\n",
       "    .dataframe tbody tr th:only-of-type {\n",
       "        vertical-align: middle;\n",
       "    }\n",
       "\n",
       "    .dataframe tbody tr th {\n",
       "        vertical-align: top;\n",
       "    }\n",
       "\n",
       "    .dataframe thead th {\n",
       "        text-align: right;\n",
       "    }\n",
       "</style>\n",
       "<table border=\"1\" class=\"dataframe\">\n",
       "  <thead>\n",
       "    <tr style=\"text-align: right;\">\n",
       "      <th></th>\n",
       "      <th>id</th>\n",
       "      <th>comment_text</th>\n",
       "      <th>toxic</th>\n",
       "      <th>severe_toxic</th>\n",
       "      <th>obscene</th>\n",
       "      <th>threat</th>\n",
       "      <th>insult</th>\n",
       "      <th>identity_hate</th>\n",
       "    </tr>\n",
       "  </thead>\n",
       "  <tbody>\n",
       "    <tr>\n",
       "      <th>0</th>\n",
       "      <td>0000997932d777bf</td>\n",
       "      <td>Explanation\\nWhy the edits made under my usern...</td>\n",
       "      <td>0</td>\n",
       "      <td>0</td>\n",
       "      <td>0</td>\n",
       "      <td>0</td>\n",
       "      <td>0</td>\n",
       "      <td>0</td>\n",
       "    </tr>\n",
       "    <tr>\n",
       "      <th>1</th>\n",
       "      <td>000103f0d9cfb60f</td>\n",
       "      <td>D'aww! He matches this background colour I'm s...</td>\n",
       "      <td>0</td>\n",
       "      <td>0</td>\n",
       "      <td>0</td>\n",
       "      <td>0</td>\n",
       "      <td>0</td>\n",
       "      <td>0</td>\n",
       "    </tr>\n",
       "    <tr>\n",
       "      <th>2</th>\n",
       "      <td>000113f07ec002fd</td>\n",
       "      <td>Hey man, I'm really not trying to edit war. It...</td>\n",
       "      <td>0</td>\n",
       "      <td>0</td>\n",
       "      <td>0</td>\n",
       "      <td>0</td>\n",
       "      <td>0</td>\n",
       "      <td>0</td>\n",
       "    </tr>\n",
       "    <tr>\n",
       "      <th>3</th>\n",
       "      <td>0001b41b1c6bb37e</td>\n",
       "      <td>\"\\nMore\\nI can't make any real suggestions on ...</td>\n",
       "      <td>0</td>\n",
       "      <td>0</td>\n",
       "      <td>0</td>\n",
       "      <td>0</td>\n",
       "      <td>0</td>\n",
       "      <td>0</td>\n",
       "    </tr>\n",
       "    <tr>\n",
       "      <th>4</th>\n",
       "      <td>0001d958c54c6e35</td>\n",
       "      <td>You, sir, are my hero. Any chance you remember...</td>\n",
       "      <td>0</td>\n",
       "      <td>0</td>\n",
       "      <td>0</td>\n",
       "      <td>0</td>\n",
       "      <td>0</td>\n",
       "      <td>0</td>\n",
       "    </tr>\n",
       "    <tr>\n",
       "      <th>...</th>\n",
       "      <td>...</td>\n",
       "      <td>...</td>\n",
       "      <td>...</td>\n",
       "      <td>...</td>\n",
       "      <td>...</td>\n",
       "      <td>...</td>\n",
       "      <td>...</td>\n",
       "      <td>...</td>\n",
       "    </tr>\n",
       "    <tr>\n",
       "      <th>159566</th>\n",
       "      <td>ffe987279560d7ff</td>\n",
       "      <td>\":::::And for the second time of asking, when ...</td>\n",
       "      <td>0</td>\n",
       "      <td>0</td>\n",
       "      <td>0</td>\n",
       "      <td>0</td>\n",
       "      <td>0</td>\n",
       "      <td>0</td>\n",
       "    </tr>\n",
       "    <tr>\n",
       "      <th>159567</th>\n",
       "      <td>ffea4adeee384e90</td>\n",
       "      <td>You should be ashamed of yourself \\n\\nThat is ...</td>\n",
       "      <td>0</td>\n",
       "      <td>0</td>\n",
       "      <td>0</td>\n",
       "      <td>0</td>\n",
       "      <td>0</td>\n",
       "      <td>0</td>\n",
       "    </tr>\n",
       "    <tr>\n",
       "      <th>159568</th>\n",
       "      <td>ffee36eab5c267c9</td>\n",
       "      <td>Spitzer \\n\\nUmm, theres no actual article for ...</td>\n",
       "      <td>0</td>\n",
       "      <td>0</td>\n",
       "      <td>0</td>\n",
       "      <td>0</td>\n",
       "      <td>0</td>\n",
       "      <td>0</td>\n",
       "    </tr>\n",
       "    <tr>\n",
       "      <th>159569</th>\n",
       "      <td>fff125370e4aaaf3</td>\n",
       "      <td>And it looks like it was actually you who put ...</td>\n",
       "      <td>0</td>\n",
       "      <td>0</td>\n",
       "      <td>0</td>\n",
       "      <td>0</td>\n",
       "      <td>0</td>\n",
       "      <td>0</td>\n",
       "    </tr>\n",
       "    <tr>\n",
       "      <th>159570</th>\n",
       "      <td>fff46fc426af1f9a</td>\n",
       "      <td>\"\\nAnd ... I really don't think you understand...</td>\n",
       "      <td>0</td>\n",
       "      <td>0</td>\n",
       "      <td>0</td>\n",
       "      <td>0</td>\n",
       "      <td>0</td>\n",
       "      <td>0</td>\n",
       "    </tr>\n",
       "  </tbody>\n",
       "</table>\n",
       "<p>159571 rows × 8 columns</p>\n",
       "</div>"
      ],
      "text/plain": [
       "                      id                                       comment_text  \\\n",
       "0       0000997932d777bf  Explanation\\nWhy the edits made under my usern...   \n",
       "1       000103f0d9cfb60f  D'aww! He matches this background colour I'm s...   \n",
       "2       000113f07ec002fd  Hey man, I'm really not trying to edit war. It...   \n",
       "3       0001b41b1c6bb37e  \"\\nMore\\nI can't make any real suggestions on ...   \n",
       "4       0001d958c54c6e35  You, sir, are my hero. Any chance you remember...   \n",
       "...                  ...                                                ...   \n",
       "159566  ffe987279560d7ff  \":::::And for the second time of asking, when ...   \n",
       "159567  ffea4adeee384e90  You should be ashamed of yourself \\n\\nThat is ...   \n",
       "159568  ffee36eab5c267c9  Spitzer \\n\\nUmm, theres no actual article for ...   \n",
       "159569  fff125370e4aaaf3  And it looks like it was actually you who put ...   \n",
       "159570  fff46fc426af1f9a  \"\\nAnd ... I really don't think you understand...   \n",
       "\n",
       "        toxic  severe_toxic  obscene  threat  insult  identity_hate  \n",
       "0           0             0        0       0       0              0  \n",
       "1           0             0        0       0       0              0  \n",
       "2           0             0        0       0       0              0  \n",
       "3           0             0        0       0       0              0  \n",
       "4           0             0        0       0       0              0  \n",
       "...       ...           ...      ...     ...     ...            ...  \n",
       "159566      0             0        0       0       0              0  \n",
       "159567      0             0        0       0       0              0  \n",
       "159568      0             0        0       0       0              0  \n",
       "159569      0             0        0       0       0              0  \n",
       "159570      0             0        0       0       0              0  \n",
       "\n",
       "[159571 rows x 8 columns]"
      ]
     },
     "execution_count": 33,
     "metadata": {},
     "output_type": "execute_result"
    }
   ],
   "source": [
    "dataframe"
   ]
  },
  {
   "cell_type": "code",
   "execution_count": 34,
   "metadata": {},
   "outputs": [
    {
     "data": {
      "text/plain": [
       "<BarContainer object of 6 artists>"
      ]
     },
     "execution_count": 34,
     "metadata": {},
     "output_type": "execute_result"
    },
    {
     "data": {
      "text/plain": [
       "Text(0.5, 1.0, 'Distribution of Toxic Behaviors in Tweets')"
      ]
     },
     "execution_count": 34,
     "metadata": {},
     "output_type": "execute_result"
    },
    {
     "data": {
      "text/plain": [
       "Text(0.5, 0, 'Type of Toxic Behavior')"
      ]
     },
     "execution_count": 34,
     "metadata": {},
     "output_type": "execute_result"
    },
    {
     "data": {
      "text/plain": [
       "Text(0, 0.5, 'Count')"
      ]
     },
     "execution_count": 34,
     "metadata": {},
     "output_type": "execute_result"
    },
    {
     "data": {
      "image/png": "[encoded data removed]",
      "text/plain": [
       "<Figure size 640x480 with 1 Axes>"
      ]
     },
     "metadata": {},
     "output_type": "display_data"
    }
   ],
   "source": [
    "counts = dataframe.iloc[:,2:].sum()\n",
    "\n",
    "# Create a stacked bar chart\n",
    "plt.bar(counts.index, counts, color=['C0', 'C1', 'C2', 'C3', 'C4', 'C5'])\n",
    "plt.title(\"Distribution of Toxic Behaviors in Tweets\")\n",
    "plt.xlabel(\"Type of Toxic Behavior\")\n",
    "plt.ylabel(\"Count\")\n",
    "plt.show()\n"
   ]
  },
  {
   "cell_type": "markdown",
   "metadata": {},
   "source": [
    "**Massaging the Dataset**\n",
    "\n",
    "We don't need the levels of toxicity, we only need to know if the tweet is toxic or non-toxic. Hence, removing the un-necessary columns and adding target column (0 - Toxic, 1 - Non-Toxic). "
   ]
  },
  {
   "cell_type": "code",
   "execution_count": 35,
   "metadata": {},
   "outputs": [
    {
     "data": {
      "text/html": [
       "<div>\n",
       "<style scoped>\n",
       "    .dataframe tbody tr th:only-of-type {\n",
       "        vertical-align: middle;\n",
       "    }\n",
       "\n",
       "    .dataframe tbody tr th {\n",
       "        vertical-align: top;\n",
       "    }\n",
       "\n",
       "    .dataframe thead th {\n",
       "        text-align: right;\n",
       "    }\n",
       "</style>\n",
       "<table border=\"1\" class=\"dataframe\">\n",
       "  <thead>\n",
       "    <tr style=\"text-align: right;\">\n",
       "      <th></th>\n",
       "      <th>comment_text</th>\n",
       "      <th>target</th>\n",
       "    </tr>\n",
       "  </thead>\n",
       "  <tbody>\n",
       "    <tr>\n",
       "      <th>0</th>\n",
       "      <td>Explanation\\nWhy the edits made under my usern...</td>\n",
       "      <td>0</td>\n",
       "    </tr>\n",
       "    <tr>\n",
       "      <th>1</th>\n",
       "      <td>D'aww! He matches this background colour I'm s...</td>\n",
       "      <td>0</td>\n",
       "    </tr>\n",
       "    <tr>\n",
       "      <th>2</th>\n",
       "      <td>Hey man, I'm really not trying to edit war. It...</td>\n",
       "      <td>0</td>\n",
       "    </tr>\n",
       "    <tr>\n",
       "      <th>3</th>\n",
       "      <td>\"\\nMore\\nI can't make any real suggestions on ...</td>\n",
       "      <td>0</td>\n",
       "    </tr>\n",
       "    <tr>\n",
       "      <th>4</th>\n",
       "      <td>You, sir, are my hero. Any chance you remember...</td>\n",
       "      <td>0</td>\n",
       "    </tr>\n",
       "  </tbody>\n",
       "</table>\n",
       "</div>"
      ],
      "text/plain": [
       "                                        comment_text  target\n",
       "0  Explanation\\nWhy the edits made under my usern...       0\n",
       "1  D'aww! He matches this background colour I'm s...       0\n",
       "2  Hey man, I'm really not trying to edit war. It...       0\n",
       "3  \"\\nMore\\nI can't make any real suggestions on ...       0\n",
       "4  You, sir, are my hero. Any chance you remember...       0"
      ]
     },
     "execution_count": 35,
     "metadata": {},
     "output_type": "execute_result"
    }
   ],
   "source": [
    "dataframe[\"target\"] = [ 1 if row[\"toxic\"] == 1 or row[\"severe_toxic\"] == 1 or row[\"obscene\"] == 1 or row[\"threat\"] == 1 or row[\"insult\"] == 1 or row[\"identity_hate\"] == 1 else 0 for index, row in dataframe.iterrows()]\n",
    "dataframe = dataframe.drop(labels=[\"toxic\",\"severe_toxic\",\"obscene\",\"threat\",\"insult\",\"identity_hate\",\"id\"], axis=1)\n",
    "dataframe.head()"
   ]
  },
  {
   "cell_type": "markdown",
   "metadata": {},
   "source": [
    "**Visualizations**"
   ]
  },
  {
   "cell_type": "code",
   "execution_count": 36,
   "metadata": {},
   "outputs": [
    {
     "data": {
      "text/plain": [
       "<BarContainer object of 2 artists>"
      ]
     },
     "execution_count": 36,
     "metadata": {},
     "output_type": "execute_result"
    },
    {
     "data": {
      "text/plain": [
       "Text(0.5, 1.0, 'Distribution of Toxic and Non-Toxic Tweets')"
      ]
     },
     "execution_count": 36,
     "metadata": {},
     "output_type": "execute_result"
    },
    {
     "data": {
      "text/plain": [
       "Text(0.5, 0, 'Tweet Type')"
      ]
     },
     "execution_count": 36,
     "metadata": {},
     "output_type": "execute_result"
    },
    {
     "data": {
      "text/plain": [
       "Text(0, 0.5, 'Count')"
      ]
     },
     "execution_count": 36,
     "metadata": {},
     "output_type": "execute_result"
    },
    {
     "data": {
      "image/png": "[encoded data removed]",
      "text/plain": [
       "<Figure size 640x480 with 1 Axes>"
      ]
     },
     "metadata": {},
     "output_type": "display_data"
    }
   ],
   "source": [
    "# Count the number of toxic and non-toxic tweets\n",
    "counts = dataframe[\"target\"].value_counts()\n",
    "\n",
    "# Create a bar chart\n",
    "plt.bar([\"Non-toxic\", \"Toxic\"], counts)\n",
    "plt.title(\"Distribution of Toxic and Non-Toxic Tweets\")\n",
    "plt.xlabel(\"Tweet Type\")\n",
    "plt.ylabel(\"Count\")\n",
    "plt.show()"
   ]
  },
  {
   "cell_type": "markdown",
   "metadata": {},
   "source": [
    "**Splitting the dataset for Train and Test**"
   ]
  },
  {
   "cell_type": "code",
   "execution_count": 37,
   "metadata": {},
   "outputs": [],
   "source": [
    "from sklearn.model_selection import train_test_split\n",
    "X_train, X_test,Y_train, Y_test = train_test_split(dataframe[\"comment_text\"],dataframe[\"target\"] ,random_state=71, test_size=0.33, shuffle=True)"
   ]
  },
  {
   "cell_type": "markdown",
   "metadata": {},
   "source": [
    "**Preprocessing the Training dataset**\n",
    "\n",
    "Preprocessing, both training and testing dataset. \n",
    "1. Remove URL's \n",
    "2. Remove mentions and hashtags\n",
    "3. Remove special characters and punctuation\n",
    "4. Convert to lowercase\n",
    "5. Remove extra whitespace"
   ]
  },
  {
   "cell_type": "code",
   "execution_count": 81,
   "metadata": {},
   "outputs": [],
   "source": [
    "import re\n",
    "\n",
    "def preprocess_tweet(tweet):\n",
    "    # Remove URLs\n",
    "    tweet = str(tweet)\n",
    "    tweet = re.sub(r\"http\\S+\", \"\", tweet)\n",
    "    # Remove mentions and hashtags\n",
    "    tweet = re.sub(r\"@[A-Za-z0-9]+\", \"\", tweet)\n",
    "    tweet = re.sub(r\"#[A-Za-z0-9]+\", \"\", tweet)\n",
    "    # Remove special characters and punctuation\n",
    "    tweet = re.sub(r\"[^a-zA-Z0-9]\", \" \", tweet)\n",
    "    # Convert to lowercase\n",
    "    tweet = tweet.lower()\n",
    "    # Remove extra whitespace\n",
    "    tweet = re.sub(r\"\\s+\", \" \", tweet).strip()\n",
    "    return tweet\n",
    "\n",
    "\n",
    "X_train = [preprocess_tweet(tweet) for tweet in X_train]\n",
    "X_test = [preprocess_tweet(tweet) for tweet in X_test]"
   ]
  },
  {
   "cell_type": "markdown",
   "metadata": {},
   "source": [
    "**Initilizing TFID Vectorizer of SkLearn for feature extraction**"
   ]
  },
  {
   "cell_type": "code",
   "execution_count": 82,
   "metadata": {},
   "outputs": [],
   "source": [
    "from sklearn.feature_extraction.text import TfidfVectorizer\n",
    "vectorizer = TfidfVectorizer(stop_words='english')\n"
   ]
  },
  {
   "cell_type": "markdown",
   "metadata": {},
   "source": [
    "**Naive Bayes Classifier**"
   ]
  },
  {
   "cell_type": "code",
   "execution_count": 99,
   "metadata": {},
   "outputs": [
    {
     "data": {
      "text/html": [
       "<style>#sk-container-id-13 {color: black;background-color: white;}#sk-container-id-13 pre{padding: 0;}#sk-container-id-13 div.sk-toggleable {background-color: white;}#sk-container-id-13 label.sk-toggleable__label {cursor: pointer;display: block;width: 100%;margin-bottom: 0;padding: 0.3em;box-sizing: border-box;text-align: center;}#sk-container-id-13 label.sk-toggleable__label-arrow:before {content: \"▸\";float: left;margin-right: 0.25em;color: #696969;}#sk-container-id-13 label.sk-toggleable__label-arrow:hover:before {color: black;}#sk-container-id-13 div.sk-estimator:hover label.sk-toggleable__label-arrow:before {color: black;}#sk-container-id-13 div.sk-toggleable__content {max-height: 0;max-width: 0;overflow: hidden;text-align: left;background-color: #f0f8ff;}#sk-container-id-13 div.sk-toggleable__content pre {margin: 0.2em;color: black;border-radius: 0.25em;background-color: #f0f8ff;}#sk-container-id-13 input.sk-toggleable__control:checked~div.sk-toggleable__content {max-height: 200px;max-width: 100%;overflow: auto;}#sk-container-id-13 input.sk-toggleable__control:checked~label.sk-toggleable__label-arrow:before {content: \"▾\";}#sk-container-id-13 div.sk-estimator input.sk-toggleable__control:checked~label.sk-toggleable__label {background-color: #d4ebff;}#sk-container-id-13 div.sk-label input.sk-toggleable__control:checked~label.sk-toggleable__label {background-color: #d4ebff;}#sk-container-id-13 input.sk-hidden--visually {border: 0;clip: rect(1px 1px 1px 1px);clip: rect(1px, 1px, 1px, 1px);height: 1px;margin: -1px;overflow: hidden;padding: 0;position: absolute;width: 1px;}#sk-container-id-13 div.sk-estimator {font-family: monospace;background-color: #f0f8ff;border: 1px dotted black;border-radius: 0.25em;box-sizing: border-box;margin-bottom: 0.5em;}#sk-container-id-13 div.sk-estimator:hover {background-color: #d4ebff;}#sk-container-id-13 div.sk-parallel-item::after {content: \"\";width: 100%;border-bottom: 1px solid gray;flex-grow: 1;}#sk-container-id-13 div.sk-label:hover label.sk-toggleable__label {background-color: #d4ebff;}#sk-container-id-13 div.sk-serial::before {content: \"\";position: absolute;border-left: 1px solid gray;box-sizing: border-box;top: 0;bottom: 0;left: 50%;z-index: 0;}#sk-container-id-13 div.sk-serial {display: flex;flex-direction: column;align-items: center;background-color: white;padding-right: 0.2em;padding-left: 0.2em;position: relative;}#sk-container-id-13 div.sk-item {position: relative;z-index: 1;}#sk-container-id-13 div.sk-parallel {display: flex;align-items: stretch;justify-content: center;background-color: white;position: relative;}#sk-container-id-13 div.sk-item::before, #sk-container-id-13 div.sk-parallel-item::before {content: \"\";position: absolute;border-left: 1px solid gray;box-sizing: border-box;top: 0;bottom: 0;left: 50%;z-index: -1;}#sk-container-id-13 div.sk-parallel-item {display: flex;flex-direction: column;z-index: 1;position: relative;background-color: white;}#sk-container-id-13 div.sk-parallel-item:first-child::after {align-self: flex-end;width: 50%;}#sk-container-id-13 div.sk-parallel-item:last-child::after {align-self: flex-start;width: 50%;}#sk-container-id-13 div.sk-parallel-item:only-child::after {width: 0;}#sk-container-id-13 div.sk-dashed-wrapped {border: 1px dashed gray;margin: 0 0.4em 0.5em 0.4em;box-sizing: border-box;padding-bottom: 0.4em;background-color: white;}#sk-container-id-13 div.sk-label label {font-family: monospace;font-weight: bold;display: inline-block;line-height: 1.2em;}#sk-container-id-13 div.sk-label-container {text-align: center;}#sk-container-id-13 div.sk-container {/* jupyter's `normalize.less` sets `[hidden] { display: none; }` but bootstrap.min.css set `[hidden] { display: none !important; }` so we also need the `!important` here to be able to override the default hidden behavior on the sphinx rendered scikit-learn.org. See: https://github.com/scikit-learn/scikit-learn/issues/21755 */display: inline-block !important;position: relative;}#sk-container-id-13 div.sk-text-repr-fallback {display: none;}</style><div id=\"sk-container-id-13\" class=\"sk-top-container\"><div class=\"sk-text-repr-fallback\"><pre>Pipeline(steps=[(&#x27;tfidfvectorizer&#x27;, TfidfVectorizer(stop_words=&#x27;english&#x27;)),\n",
       "                (&#x27;multinomialnb&#x27;, MultinomialNB())])</pre><b>In a Jupyter environment, please rerun this cell to show the HTML representation or trust the notebook. <br />On GitHub, the HTML representation is unable to render, please try loading this page with nbviewer.org.</b></div><div class=\"sk-container\" hidden><div class=\"sk-item sk-dashed-wrapped\"><div class=\"sk-label-container\"><div class=\"sk-label sk-toggleable\"><input class=\"sk-toggleable__control sk-hidden--visually\" id=\"sk-estimator-id-29\" type=\"checkbox\" ><label for=\"sk-estimator-id-29\" class=\"sk-toggleable__label sk-toggleable__label-arrow\">Pipeline</label><div class=\"sk-toggleable__content\"><pre>Pipeline(steps=[(&#x27;tfidfvectorizer&#x27;, TfidfVectorizer(stop_words=&#x27;english&#x27;)),\n",
       "                (&#x27;multinomialnb&#x27;, MultinomialNB())])</pre></div></div></div><div class=\"sk-serial\"><div class=\"sk-item\"><div class=\"sk-estimator sk-toggleable\"><input class=\"sk-toggleable__control sk-hidden--visually\" id=\"sk-estimator-id-30\" type=\"checkbox\" ><label for=\"sk-estimator-id-30\" class=\"sk-toggleable__label sk-toggleable__label-arrow\">TfidfVectorizer</label><div class=\"sk-toggleable__content\"><pre>TfidfVectorizer(stop_words=&#x27;english&#x27;)</pre></div></div></div><div class=\"sk-item\"><div class=\"sk-estimator sk-toggleable\"><input class=\"sk-toggleable__control sk-hidden--visually\" id=\"sk-estimator-id-31\" type=\"checkbox\" ><label for=\"sk-estimator-id-31\" class=\"sk-toggleable__label sk-toggleable__label-arrow\">MultinomialNB</label><div class=\"sk-toggleable__content\"><pre>MultinomialNB()</pre></div></div></div></div></div></div></div>"
      ],
      "text/plain": [
       "Pipeline(steps=[('tfidfvectorizer', TfidfVectorizer(stop_words='english')),\n",
       "                ('multinomialnb', MultinomialNB())])"
      ]
     },
     "execution_count": 99,
     "metadata": {},
     "output_type": "execute_result"
    },
    {
     "name": "stdout",
     "output_type": "stream",
     "text": [
      "Accuracy: 0.9182665831101996\n",
      "Hamming Loss:  0.08173341688980042\n"
     ]
    }
   ],
   "source": [
    "import numpy as np\n",
    "from sklearn.naive_bayes import MultinomialNB\n",
    "from sklearn.metrics import accuracy_score,hamming_loss, recall_score, precision_score, f1_score\n",
    "from sklearn.pipeline import make_pipeline\n",
    "\n",
    "# Initialize classifier\n",
    "nb_clf = MultinomialNB()\n",
    "\n",
    "# Build the pipeline\n",
    "nb_pipeline = make_pipeline(vectorizer, nb_clf)\n",
    "\n",
    "# Fit the model to training data\n",
    "nb_pipeline.fit(X_train, Y_train)\n",
    "\n",
    "# Predict on testing data\n",
    "nb_y_pred = nb_pipeline.predict(X_test)\n",
    "\n",
    "# Calculate accuracy score\n",
    "accuracy = accuracy_score(Y_test, nb_y_pred)\n",
    "print(\"Accuracy:\", accuracy)\n",
    "hamming_loss = hamming_loss(Y_test, nb_y_pred)\n",
    "print(\"Hamming Loss: \",hamming_loss)"
   ]
  },
  {
   "cell_type": "markdown",
   "metadata": {},
   "source": [
    "**SVM Classifier**"
   ]
  },
  {
   "cell_type": "code",
   "execution_count": 98,
   "metadata": {},
   "outputs": [
    {
     "data": {
      "text/html": [
       "<style>#sk-container-id-12 {color: black;background-color: white;}#sk-container-id-12 pre{padding: 0;}#sk-container-id-12 div.sk-toggleable {background-color: white;}#sk-container-id-12 label.sk-toggleable__label {cursor: pointer;display: block;width: 100%;margin-bottom: 0;padding: 0.3em;box-sizing: border-box;text-align: center;}#sk-container-id-12 label.sk-toggleable__label-arrow:before {content: \"▸\";float: left;margin-right: 0.25em;color: #696969;}#sk-container-id-12 label.sk-toggleable__label-arrow:hover:before {color: black;}#sk-container-id-12 div.sk-estimator:hover label.sk-toggleable__label-arrow:before {color: black;}#sk-container-id-12 div.sk-toggleable__content {max-height: 0;max-width: 0;overflow: hidden;text-align: left;background-color: #f0f8ff;}#sk-container-id-12 div.sk-toggleable__content pre {margin: 0.2em;color: black;border-radius: 0.25em;background-color: #f0f8ff;}#sk-container-id-12 input.sk-toggleable__control:checked~div.sk-toggleable__content {max-height: 200px;max-width: 100%;overflow: auto;}#sk-container-id-12 input.sk-toggleable__control:checked~label.sk-toggleable__label-arrow:before {content: \"▾\";}#sk-container-id-12 div.sk-estimator input.sk-toggleable__control:checked~label.sk-toggleable__label {background-color: #d4ebff;}#sk-container-id-12 div.sk-label input.sk-toggleable__control:checked~label.sk-toggleable__label {background-color: #d4ebff;}#sk-container-id-12 input.sk-hidden--visually {border: 0;clip: rect(1px 1px 1px 1px);clip: rect(1px, 1px, 1px, 1px);height: 1px;margin: -1px;overflow: hidden;padding: 0;position: absolute;width: 1px;}#sk-container-id-12 div.sk-estimator {font-family: monospace;background-color: #f0f8ff;border: 1px dotted black;border-radius: 0.25em;box-sizing: border-box;margin-bottom: 0.5em;}#sk-container-id-12 div.sk-estimator:hover {background-color: #d4ebff;}#sk-container-id-12 div.sk-parallel-item::after {content: \"\";width: 100%;border-bottom: 1px solid gray;flex-grow: 1;}#sk-container-id-12 div.sk-label:hover label.sk-toggleable__label {background-color: #d4ebff;}#sk-container-id-12 div.sk-serial::before {content: \"\";position: absolute;border-left: 1px solid gray;box-sizing: border-box;top: 0;bottom: 0;left: 50%;z-index: 0;}#sk-container-id-12 div.sk-serial {display: flex;flex-direction: column;align-items: center;background-color: white;padding-right: 0.2em;padding-left: 0.2em;position: relative;}#sk-container-id-12 div.sk-item {position: relative;z-index: 1;}#sk-container-id-12 div.sk-parallel {display: flex;align-items: stretch;justify-content: center;background-color: white;position: relative;}#sk-container-id-12 div.sk-item::before, #sk-container-id-12 div.sk-parallel-item::before {content: \"\";position: absolute;border-left: 1px solid gray;box-sizing: border-box;top: 0;bottom: 0;left: 50%;z-index: -1;}#sk-container-id-12 div.sk-parallel-item {display: flex;flex-direction: column;z-index: 1;position: relative;background-color: white;}#sk-container-id-12 div.sk-parallel-item:first-child::after {align-self: flex-end;width: 50%;}#sk-container-id-12 div.sk-parallel-item:last-child::after {align-self: flex-start;width: 50%;}#sk-container-id-12 div.sk-parallel-item:only-child::after {width: 0;}#sk-container-id-12 div.sk-dashed-wrapped {border: 1px dashed gray;margin: 0 0.4em 0.5em 0.4em;box-sizing: border-box;padding-bottom: 0.4em;background-color: white;}#sk-container-id-12 div.sk-label label {font-family: monospace;font-weight: bold;display: inline-block;line-height: 1.2em;}#sk-container-id-12 div.sk-label-container {text-align: center;}#sk-container-id-12 div.sk-container {/* jupyter's `normalize.less` sets `[hidden] { display: none; }` but bootstrap.min.css set `[hidden] { display: none !important; }` so we also need the `!important` here to be able to override the default hidden behavior on the sphinx rendered scikit-learn.org. See: https://github.com/scikit-learn/scikit-learn/issues/21755 */display: inline-block !important;position: relative;}#sk-container-id-12 div.sk-text-repr-fallback {display: none;}</style><div id=\"sk-container-id-12\" class=\"sk-top-container\"><div class=\"sk-text-repr-fallback\"><pre>Pipeline(steps=[(&#x27;tfidf&#x27;, TfidfVectorizer(stop_words=&#x27;english&#x27;)),\n",
       "                (&#x27;svd&#x27;, TruncatedSVD(n_components=300)),\n",
       "                (&#x27;svm&#x27;, SVC(kernel=&#x27;linear&#x27;))])</pre><b>In a Jupyter environment, please rerun this cell to show the HTML representation or trust the notebook. <br />On GitHub, the HTML representation is unable to render, please try loading this page with nbviewer.org.</b></div><div class=\"sk-container\" hidden><div class=\"sk-item sk-dashed-wrapped\"><div class=\"sk-label-container\"><div class=\"sk-label sk-toggleable\"><input class=\"sk-toggleable__control sk-hidden--visually\" id=\"sk-estimator-id-25\" type=\"checkbox\" ><label for=\"sk-estimator-id-25\" class=\"sk-toggleable__label sk-toggleable__label-arrow\">Pipeline</label><div class=\"sk-toggleable__content\"><pre>Pipeline(steps=[(&#x27;tfidf&#x27;, TfidfVectorizer(stop_words=&#x27;english&#x27;)),\n",
       "                (&#x27;svd&#x27;, TruncatedSVD(n_components=300)),\n",
       "                (&#x27;svm&#x27;, SVC(kernel=&#x27;linear&#x27;))])</pre></div></div></div><div class=\"sk-serial\"><div class=\"sk-item\"><div class=\"sk-estimator sk-toggleable\"><input class=\"sk-toggleable__control sk-hidden--visually\" id=\"sk-estimator-id-26\" type=\"checkbox\" ><label for=\"sk-estimator-id-26\" class=\"sk-toggleable__label sk-toggleable__label-arrow\">TfidfVectorizer</label><div class=\"sk-toggleable__content\"><pre>TfidfVectorizer(stop_words=&#x27;english&#x27;)</pre></div></div></div><div class=\"sk-item\"><div class=\"sk-estimator sk-toggleable\"><input class=\"sk-toggleable__control sk-hidden--visually\" id=\"sk-estimator-id-27\" type=\"checkbox\" ><label for=\"sk-estimator-id-27\" class=\"sk-toggleable__label sk-toggleable__label-arrow\">TruncatedSVD</label><div class=\"sk-toggleable__content\"><pre>TruncatedSVD(n_components=300)</pre></div></div></div><div class=\"sk-item\"><div class=\"sk-estimator sk-toggleable\"><input class=\"sk-toggleable__control sk-hidden--visually\" id=\"sk-estimator-id-28\" type=\"checkbox\" ><label for=\"sk-estimator-id-28\" class=\"sk-toggleable__label sk-toggleable__label-arrow\">SVC</label><div class=\"sk-toggleable__content\"><pre>SVC(kernel=&#x27;linear&#x27;)</pre></div></div></div></div></div></div></div>"
      ],
      "text/plain": [
       "Pipeline(steps=[('tfidf', TfidfVectorizer(stop_words='english')),\n",
       "                ('svd', TruncatedSVD(n_components=300)),\n",
       "                ('svm', SVC(kernel='linear'))])"
      ]
     },
     "execution_count": 98,
     "metadata": {},
     "output_type": "execute_result"
    },
    {
     "name": "stdout",
     "output_type": "stream",
     "text": [
      "Accuracy: 0.9417193642112459\n"
     ]
    }
   ],
   "source": [
    "from sklearn.decomposition import TruncatedSVD\n",
    "from sklearn.feature_extraction.text import TfidfVectorizer\n",
    "from sklearn.svm import SVC\n",
    "from sklearn.pipeline import Pipeline\n",
    "\n",
    "# Define the pipeline\n",
    "svm_pipeline = Pipeline([\n",
    "    ('tfidf', vectorizer),\n",
    "    ('svd', TruncatedSVD(n_components=300)),\n",
    "    ('svm', SVC(kernel='linear'))\n",
    "])\n",
    "\n",
    "# Fit the pipeline to the training data\n",
    "svm_pipeline.fit(X_train, Y_train)\n",
    "\n",
    "# Evaluate the pipeline on the test data\n",
    "svm_y_pred = svm_pipeline.predict(X_test)\n",
    "accuracy = accuracy_score(Y_test, svm_y_pred)\n",
    "print(\"Accuracy:\", accuracy)\n",
    "# hamming_loss = hamming_loss(Y_test, y_pred)\n",
    "# print(\"Hamming Loss: \",hamming_loss)"
   ]
  },
  {
   "cell_type": "markdown",
   "metadata": {},
   "source": [
    "**Decision Tree Classifier**"
   ]
  },
  {
   "cell_type": "code",
   "execution_count": 93,
   "metadata": {},
   "outputs": [
    {
     "data": {
      "text/html": [
       "<style>#sk-container-id-10 {color: black;background-color: white;}#sk-container-id-10 pre{padding: 0;}#sk-container-id-10 div.sk-toggleable {background-color: white;}#sk-container-id-10 label.sk-toggleable__label {cursor: pointer;display: block;width: 100%;margin-bottom: 0;padding: 0.3em;box-sizing: border-box;text-align: center;}#sk-container-id-10 label.sk-toggleable__label-arrow:before {content: \"▸\";float: left;margin-right: 0.25em;color: #696969;}#sk-container-id-10 label.sk-toggleable__label-arrow:hover:before {color: black;}#sk-container-id-10 div.sk-estimator:hover label.sk-toggleable__label-arrow:before {color: black;}#sk-container-id-10 div.sk-toggleable__content {max-height: 0;max-width: 0;overflow: hidden;text-align: left;background-color: #f0f8ff;}#sk-container-id-10 div.sk-toggleable__content pre {margin: 0.2em;color: black;border-radius: 0.25em;background-color: #f0f8ff;}#sk-container-id-10 input.sk-toggleable__control:checked~div.sk-toggleable__content {max-height: 200px;max-width: 100%;overflow: auto;}#sk-container-id-10 input.sk-toggleable__control:checked~label.sk-toggleable__label-arrow:before {content: \"▾\";}#sk-container-id-10 div.sk-estimator input.sk-toggleable__control:checked~label.sk-toggleable__label {background-color: #d4ebff;}#sk-container-id-10 div.sk-label input.sk-toggleable__control:checked~label.sk-toggleable__label {background-color: #d4ebff;}#sk-container-id-10 input.sk-hidden--visually {border: 0;clip: rect(1px 1px 1px 1px);clip: rect(1px, 1px, 1px, 1px);height: 1px;margin: -1px;overflow: hidden;padding: 0;position: absolute;width: 1px;}#sk-container-id-10 div.sk-estimator {font-family: monospace;background-color: #f0f8ff;border: 1px dotted black;border-radius: 0.25em;box-sizing: border-box;margin-bottom: 0.5em;}#sk-container-id-10 div.sk-estimator:hover {background-color: #d4ebff;}#sk-container-id-10 div.sk-parallel-item::after {content: \"\";width: 100%;border-bottom: 1px solid gray;flex-grow: 1;}#sk-container-id-10 div.sk-label:hover label.sk-toggleable__label {background-color: #d4ebff;}#sk-container-id-10 div.sk-serial::before {content: \"\";position: absolute;border-left: 1px solid gray;box-sizing: border-box;top: 0;bottom: 0;left: 50%;z-index: 0;}#sk-container-id-10 div.sk-serial {display: flex;flex-direction: column;align-items: center;background-color: white;padding-right: 0.2em;padding-left: 0.2em;position: relative;}#sk-container-id-10 div.sk-item {position: relative;z-index: 1;}#sk-container-id-10 div.sk-parallel {display: flex;align-items: stretch;justify-content: center;background-color: white;position: relative;}#sk-container-id-10 div.sk-item::before, #sk-container-id-10 div.sk-parallel-item::before {content: \"\";position: absolute;border-left: 1px solid gray;box-sizing: border-box;top: 0;bottom: 0;left: 50%;z-index: -1;}#sk-container-id-10 div.sk-parallel-item {display: flex;flex-direction: column;z-index: 1;position: relative;background-color: white;}#sk-container-id-10 div.sk-parallel-item:first-child::after {align-self: flex-end;width: 50%;}#sk-container-id-10 div.sk-parallel-item:last-child::after {align-self: flex-start;width: 50%;}#sk-container-id-10 div.sk-parallel-item:only-child::after {width: 0;}#sk-container-id-10 div.sk-dashed-wrapped {border: 1px dashed gray;margin: 0 0.4em 0.5em 0.4em;box-sizing: border-box;padding-bottom: 0.4em;background-color: white;}#sk-container-id-10 div.sk-label label {font-family: monospace;font-weight: bold;display: inline-block;line-height: 1.2em;}#sk-container-id-10 div.sk-label-container {text-align: center;}#sk-container-id-10 div.sk-container {/* jupyter's `normalize.less` sets `[hidden] { display: none; }` but bootstrap.min.css set `[hidden] { display: none !important; }` so we also need the `!important` here to be able to override the default hidden behavior on the sphinx rendered scikit-learn.org. See: https://github.com/scikit-learn/scikit-learn/issues/21755 */display: inline-block !important;position: relative;}#sk-container-id-10 div.sk-text-repr-fallback {display: none;}</style><div id=\"sk-container-id-10\" class=\"sk-top-container\"><div class=\"sk-text-repr-fallback\"><pre>Pipeline(steps=[(&#x27;vect&#x27;, TfidfVectorizer(stop_words=&#x27;english&#x27;)),\n",
       "                (&#x27;clf&#x27;, RandomForestClassifier())])</pre><b>In a Jupyter environment, please rerun this cell to show the HTML representation or trust the notebook. <br />On GitHub, the HTML representation is unable to render, please try loading this page with nbviewer.org.</b></div><div class=\"sk-container\" hidden><div class=\"sk-item sk-dashed-wrapped\"><div class=\"sk-label-container\"><div class=\"sk-label sk-toggleable\"><input class=\"sk-toggleable__control sk-hidden--visually\" id=\"sk-estimator-id-19\" type=\"checkbox\" ><label for=\"sk-estimator-id-19\" class=\"sk-toggleable__label sk-toggleable__label-arrow\">Pipeline</label><div class=\"sk-toggleable__content\"><pre>Pipeline(steps=[(&#x27;vect&#x27;, TfidfVectorizer(stop_words=&#x27;english&#x27;)),\n",
       "                (&#x27;clf&#x27;, RandomForestClassifier())])</pre></div></div></div><div class=\"sk-serial\"><div class=\"sk-item\"><div class=\"sk-estimator sk-toggleable\"><input class=\"sk-toggleable__control sk-hidden--visually\" id=\"sk-estimator-id-20\" type=\"checkbox\" ><label for=\"sk-estimator-id-20\" class=\"sk-toggleable__label sk-toggleable__label-arrow\">TfidfVectorizer</label><div class=\"sk-toggleable__content\"><pre>TfidfVectorizer(stop_words=&#x27;english&#x27;)</pre></div></div></div><div class=\"sk-item\"><div class=\"sk-estimator sk-toggleable\"><input class=\"sk-toggleable__control sk-hidden--visually\" id=\"sk-estimator-id-21\" type=\"checkbox\" ><label for=\"sk-estimator-id-21\" class=\"sk-toggleable__label sk-toggleable__label-arrow\">RandomForestClassifier</label><div class=\"sk-toggleable__content\"><pre>RandomForestClassifier()</pre></div></div></div></div></div></div></div>"
      ],
      "text/plain": [
       "Pipeline(steps=[('vect', TfidfVectorizer(stop_words='english')),\n",
       "                ('clf', RandomForestClassifier())])"
      ]
     },
     "execution_count": 93,
     "metadata": {},
     "output_type": "execute_result"
    },
    {
     "name": "stdout",
     "output_type": "stream",
     "text": [
      "Random Forest accuracy: 0.9548035473518297\n"
     ]
    }
   ],
   "source": [
    "from sklearn.feature_extraction.text import TfidfVectorizer\n",
    "from sklearn.ensemble import RandomForestClassifier\n",
    "\n",
    "\n",
    "rf_clf = RandomForestClassifier()\n",
    "\n",
    "\n",
    "# Define pipeline for Random Forest\n",
    "rf_pipeline = Pipeline([\n",
    "    ('vect', vectorizer),\n",
    "    ('clf', rf_clf)\n",
    "])\n",
    "\n",
    "# Train and fit the models\n",
    "rf_pipeline.fit(X_train, Y_train)\n",
    "\n",
    "# Predict using the models\n",
    "rf_prediction = rf_pipeline.predict(X_test)\n",
    "\n",
    "# Evaluate the models\n",
    "rf_accuracy = rf_pipeline.score(X_test, Y_test)\n",
    "\n",
    "print(\"Random Forest accuracy:\", rf_accuracy)\n"
   ]
  },
  {
   "cell_type": "code",
   "execution_count": 108,
   "metadata": {},
   "outputs": [
    {
     "name": "stdout",
     "output_type": "stream",
     "text": [
      "Naive Bayes Accuracy:  0.9182665831101996\n",
      "Naive Bayes Recall:  0.22036969916636462\n",
      "Naive Bayes Precision:  0.9983579638752053\n",
      "Naive Bayes F1 Score:  0.3610451306413301\n"
     ]
    }
   ],
   "source": [
    "nb_accuracy = accuracy_score(Y_test,nb_y_pred)\n",
    "nb_recall = recall_score(Y_test,nb_y_pred)\n",
    "nb_precision = precision_score(Y_test,nb_y_pred)\n",
    "nb_f1 = f1_score(Y_test,nb_y_pred)\n",
    "print(\"Naive Bayes Accuracy: \",nb_accuracy)\n",
    "print(\"Naive Bayes Recall: \",nb_recall)\n",
    "print(\"Naive Bayes Precision: \",nb_precision)\n",
    "print(\"Naive Bayes F1 Score: \",nb_f1)"
   ]
  },
  {
   "cell_type": "code",
   "execution_count": 106,
   "metadata": {},
   "outputs": [
    {
     "name": "stdout",
     "output_type": "stream",
     "text": [
      "Random Forest Accuracy:  0.9548035473518297\n",
      "Random Forest Recall:  0.6406306632837985\n",
      "Random Forest Precision:  0.8990335707019329\n",
      "Random Forest F1 Score:  0.7481481481481482\n"
     ]
    }
   ],
   "source": [
    "rf_accuracy = accuracy_score(Y_test,rf_prediction)\n",
    "rf_recall = recall_score(Y_test,rf_prediction)\n",
    "rf_precision = precision_score(Y_test,rf_prediction)\n",
    "rf_f1 = f1_score(Y_test,rf_prediction)\n",
    "print(\"Random Forest Accuracy: \",rf_accuracy)\n",
    "print(\"Random Forest Recall: \",rf_recall)\n",
    "print(\"Random Forest Precision: \",rf_precision)\n",
    "print(\"Random Forest F1 Score: \",rf_f1)"
   ]
  },
  {
   "cell_type": "code",
   "execution_count": 105,
   "metadata": {},
   "outputs": [
    {
     "name": "stdout",
     "output_type": "stream",
     "text": [
      "SVM Accuracy:  0.9417193642112459\n",
      "SVM Recall:  0.4797027908662559\n",
      "SVM Precision:  0.9304042179261863\n",
      "SVM F1 Score:  0.6330264259237116\n"
     ]
    }
   ],
   "source": [
    "svm_accuracy = accuracy_score(Y_test,svm_y_pred)\n",
    "svm_recall = recall_score(Y_test,svm_y_pred)\n",
    "svm_precision = precision_score(Y_test,svm_y_pred)\n",
    "svm_f1 = f1_score(Y_test,svm_y_pred)\n",
    "print(\"SVM Accuracy: \",svm_accuracy)\n",
    "print(\"SVM Recall: \",svm_recall)\n",
    "print(\"SVM Precision: \",svm_precision)\n",
    "print(\"SVM F1 Score: \",svm_f1)"
   ]
  },
  {
   "cell_type": "code",
   "execution_count": 100,
   "metadata": {},
   "outputs": [
    {
     "name": "stdout",
     "output_type": "stream",
     "text": [
      "Combined Accuracy:  0.9564936667995975\n",
      "Combined Recall:  0.6719826023921711\n",
      "Combined Precision:  0.8851754595368823\n",
      "Combined F1 Score:  0.7639847532708356\n"
     ]
    }
   ],
   "source": [
    "combine_pred = []\n",
    "# Y_test_list = list(Y_test.values)\n",
    "\n",
    "\n",
    "for i in range(len(X_test)):\n",
    "    pred_1 = svm_y_pred[i]\n",
    "    pred_2 = nb_y_pred[i]\n",
    "    pred_3 = rf_prediction[i]\n",
    "    if pred_1 == 1 or pred_2 == 1 or pred_3 == 1:\n",
    "        combine_pred.append(1)\n",
    "    else:\n",
    "        combine_pred.append(0)\n",
    "\n",
    "\n",
    "combined_accuracy = accuracy_score(Y_test,combine_pred)\n",
    "combined_recall = recall_score(Y_test,combine_pred)\n",
    "combined_precision = precision_score(Y_test,combine_pred)\n",
    "combined_f1 = f1_score(Y_test,combine_pred)\n",
    "print(\"Combined Accuracy: \",combined_accuracy)\n",
    "print(\"Combined Recall: \",combined_recall)\n",
    "print(\"Combined Precision: \",combined_precision)\n",
    "print(\"Combined F1 Score: \",combined_f1)"
   ]
  },
  {
   "cell_type": "markdown",
   "metadata": {},
   "source": [
    "**Initilizing Tweepy API Object**"
   ]
  },
  {
   "cell_type": "markdown",
   "metadata": {},
   "source": [
    "<font color=red><b>The below code needs Twitter Key to run<b></font>"
   ]
  },
  {
   "cell_type": "code",
   "execution_count": 19,
   "metadata": {},
   "outputs": [],
   "source": [
    "import tweepy\n",
    "import pandas as pd\n",
    "\n",
    "CONSUMER_KEY = \"<Insert Your Key Here>\"\n",
    "CONSUMER_SECRET = \"<Insert Your Key Here>\"\n",
    "OAUTH_TOKEN = \"<Insert Your Key Here>\"\n",
    "OAUTH_TOKEN_SECRET = \"<Insert Your Key Here>\"\n",
    "\n",
    "# Authenticate with the Twitter API\n",
    "auth = tweepy.OAuthHandler(CONSUMER_KEY, CONSUMER_SECRET)\n",
    "auth.set_access_token(OAUTH_TOKEN, OAUTH_TOKEN_SECRET)\n",
    "\n",
    "# Create the API object\n",
    "api = tweepy.API(auth)"
   ]
  },
  {
   "cell_type": "markdown",
   "metadata": {},
   "source": [
    "**Define the username of the user whose tweets and comments you want to retrieve**"
   ]
  },
  {
   "cell_type": "markdown",
   "metadata": {},
   "source": [
    "<font color=red><b>The below code needs Twitter Key to run<b></font>"
   ]
  },
  {
   "cell_type": "code",
   "execution_count": 20,
   "metadata": {},
   "outputs": [],
   "source": [
    "username = 'thedemocrats'\n",
    "# Get the latest 100 tweets of the user\n",
    "tweets = api.user_timeline(screen_name=username, count=400, tweet_mode='extended')\n",
    "\n",
    "# Create a list to store the data\n",
    "data = []\n"
   ]
  },
  {
   "cell_type": "markdown",
   "metadata": {},
   "source": [
    "**Building the Dataset of the Tweets extracted**"
   ]
  },
  {
   "cell_type": "markdown",
   "metadata": {},
   "source": [
    "<font color=red><b>The below code needs Twitter Key to run<b></font>"
   ]
  },
  {
   "cell_type": "markdown",
   "metadata": {},
   "source": [
    "**Skip this step:**\n",
    "The code that retrieves data from the Twitter API and builds a dataframe can be skipped since we have already retrieved the tweets from Twitter and created a CSV file."
   ]
  },
  {
   "cell_type": "code",
   "execution_count": 21,
   "metadata": {},
   "outputs": [
    {
     "name": "stdout",
     "output_type": "stream",
     "text": [
      "Rate limit exceeded. Waiting for 15 minutes.\n"
     ]
    }
   ],
   "source": [
    "import time\n",
    "# For each tweet, get the top 1000 comments and store the data in the list\n",
    "for tweet in tweets:\n",
    "    try:\n",
    "        comments = api.search_tweets(q='to:'+username, since_id=tweet.id, count=1000, tweet_mode='extended')\n",
    "    except tweepy.TweepyException as e:\n",
    "        if \"Too Many Requests\" in str(e):\n",
    "            print(\"Rate limit exceeded. Waiting for 15 minutes.\")\n",
    "            time.sleep(15 * 60)  # Wait for 15 minutes\n",
    "            comments = api.search_tweets(q='to:'+username, since_id=tweet.id, count=1000, tweet_mode='extended')\n",
    "        else:\n",
    "            print(e)\n",
    "    for comment in comments:\n",
    "        if(comment.user.screen_name != username):\n",
    "            data.append({'tweet_id': comment.id, 'tweet': comment.full_text, 'user of the tweet': comment.user.screen_name})\n",
    "\n",
    "# Convert the list to a Pandas DataFrame\n",
    "df = pd.DataFrame(data)"
   ]
  },
  {
   "cell_type": "markdown",
   "metadata": {},
   "source": [
    "Load the dataframe using CSV file. <br>\n",
    "<font color=red><b>Skip the below cell if you want to use the live data extracted from the twitter<b></font>"
   ]
  },
  {
   "cell_type": "code",
   "execution_count": 110,
   "metadata": {},
   "outputs": [
    {
     "data": {
      "text/html": [
       "<div>\n",
       "<style scoped>\n",
       "    .dataframe tbody tr th:only-of-type {\n",
       "        vertical-align: middle;\n",
       "    }\n",
       "\n",
       "    .dataframe tbody tr th {\n",
       "        vertical-align: top;\n",
       "    }\n",
       "\n",
       "    .dataframe thead th {\n",
       "        text-align: right;\n",
       "    }\n",
       "</style>\n",
       "<table border=\"1\" class=\"dataframe\">\n",
       "  <thead>\n",
       "    <tr style=\"text-align: right;\">\n",
       "      <th></th>\n",
       "      <th>tweet_id</th>\n",
       "      <th>tweet</th>\n",
       "      <th>user of the tweet</th>\n",
       "    </tr>\n",
       "  </thead>\n",
       "  <tbody>\n",
       "    <tr>\n",
       "      <th>0</th>\n",
       "      <td>1654250127173775361</td>\n",
       "      <td>@TheDemocrats Remember that the @DNC fuels div...</td>\n",
       "      <td>RealTemanson</td>\n",
       "    </tr>\n",
       "    <tr>\n",
       "      <th>1</th>\n",
       "      <td>1654250115471908864</td>\n",
       "      <td>@TheDemocrats Ã°ÂÂ¤Â¡Ã°ÂÂ¤Â¡ https://t.co/vk...</td>\n",
       "      <td>DV652</td>\n",
       "    </tr>\n",
       "    <tr>\n",
       "      <th>2</th>\n",
       "      <td>1654250112816668675</td>\n",
       "      <td>@TheDemocrats https://t.co/kFgwj7VPLo</td>\n",
       "      <td>YourFrickenJob</td>\n",
       "    </tr>\n",
       "    <tr>\n",
       "      <th>3</th>\n",
       "      <td>1654249310245244929</td>\n",
       "      <td>@TheDemocrats This is a lie.</td>\n",
       "      <td>broncos19801</td>\n",
       "    </tr>\n",
       "    <tr>\n",
       "      <th>4</th>\n",
       "      <td>1654249258571137024</td>\n",
       "      <td>@TheDemocrats https://t.co/1YnYE3zK3H</td>\n",
       "      <td>BroomallBr42259</td>\n",
       "    </tr>\n",
       "    <tr>\n",
       "      <th>...</th>\n",
       "      <td>...</td>\n",
       "      <td>...</td>\n",
       "      <td>...</td>\n",
       "    </tr>\n",
       "    <tr>\n",
       "      <th>78</th>\n",
       "      <td>1654247225143226368</td>\n",
       "      <td>@TheDemocrats Ã°ÂÂ¤Â£Ã°ÂÂÂÃ°ÂÂ¤Â£Ã°ÂÂÂ...</td>\n",
       "      <td>soniclore</td>\n",
       "    </tr>\n",
       "    <tr>\n",
       "      <th>79</th>\n",
       "      <td>1654247144570617856</td>\n",
       "      <td>@TheDemocrats Uh, now we will just have to wai...</td>\n",
       "      <td>FrankBa99193526</td>\n",
       "    </tr>\n",
       "    <tr>\n",
       "      <th>80</th>\n",
       "      <td>1654249358760591361</td>\n",
       "      <td>@TheDemocrats A complete disaster.</td>\n",
       "      <td>sco19663538</td>\n",
       "    </tr>\n",
       "    <tr>\n",
       "      <th>81</th>\n",
       "      <td>1654250160120033283</td>\n",
       "      <td>@TheDemocrats https://t.co/ISaNqjwcVQ</td>\n",
       "      <td>Bill27992994</td>\n",
       "    </tr>\n",
       "    <tr>\n",
       "      <th>82</th>\n",
       "      <td>1654249406575640576</td>\n",
       "      <td>@TheDemocrats Blind...like all of his followers</td>\n",
       "      <td>kcChris39</td>\n",
       "    </tr>\n",
       "  </tbody>\n",
       "</table>\n",
       "<p>83 rows × 3 columns</p>\n",
       "</div>"
      ],
      "text/plain": [
       "               tweet_id                                              tweet  \\\n",
       "0   1654250127173775361  @TheDemocrats Remember that the @DNC fuels div...   \n",
       "1   1654250115471908864  @TheDemocrats Ã°ÂÂ¤Â¡Ã°ÂÂ¤Â¡ https://t.co/vk...   \n",
       "2   1654250112816668675              @TheDemocrats https://t.co/kFgwj7VPLo   \n",
       "3   1654249310245244929                       @TheDemocrats This is a lie.   \n",
       "4   1654249258571137024              @TheDemocrats https://t.co/1YnYE3zK3H   \n",
       "..                  ...                                                ...   \n",
       "78  1654247225143226368  @TheDemocrats Ã°ÂÂ¤Â£Ã°ÂÂÂÃ°ÂÂ¤Â£Ã°ÂÂÂ...   \n",
       "79  1654247144570617856  @TheDemocrats Uh, now we will just have to wai...   \n",
       "80  1654249358760591361                 @TheDemocrats A complete disaster.   \n",
       "81  1654250160120033283              @TheDemocrats https://t.co/ISaNqjwcVQ   \n",
       "82  1654249406575640576    @TheDemocrats Blind...like all of his followers   \n",
       "\n",
       "   user of the tweet  \n",
       "0       RealTemanson  \n",
       "1              DV652  \n",
       "2     YourFrickenJob  \n",
       "3       broncos19801  \n",
       "4    BroomallBr42259  \n",
       "..               ...  \n",
       "78         soniclore  \n",
       "79   FrankBa99193526  \n",
       "80       sco19663538  \n",
       "81      Bill27992994  \n",
       "82         kcChris39  \n",
       "\n",
       "[83 rows x 3 columns]"
      ]
     },
     "execution_count": 110,
     "metadata": {},
     "output_type": "execute_result"
    }
   ],
   "source": [
    "df = pd.read_csv(\"./Dataset/democrats_twitter.csv\", encoding = DATASET_ENCODING)\n",
    "df"
   ]
  },
  {
   "cell_type": "markdown",
   "metadata": {},
   "source": [
    "**Running the prediction across all 3 models**"
   ]
  },
  {
   "cell_type": "code",
   "execution_count": 111,
   "metadata": {},
   "outputs": [],
   "source": [
    "inp_data = df[\"tweet\"]\n",
    "pred_1 = [1 if svm_pipeline.predict([i]) == [1] else 0 for i in inp_data]\n",
    "pred_2 = [1 if rf_pipeline.predict([i]) == [1] else 0 for i in inp_data]\n",
    "pred_3 = [1 if nb_pipeline.predict([i]) == [1] else 0 for i in inp_data]\n",
    "\n",
    "\n",
    "n = len(pred_1)\n",
    "combine_pred = []\n",
    "for i in range(n):\n",
    "    if pred_1[i] == 1 or pred_2[i] == 1 or pred_3[i] == 1:\n",
    "        combine_pred.append(1)\n",
    "    else:\n",
    "        combine_pred.append(0)\n"
   ]
  },
  {
   "cell_type": "markdown",
   "metadata": {},
   "source": [
    "**Adding the prediction column to the dataframe**"
   ]
  },
  {
   "cell_type": "code",
   "execution_count": 112,
   "metadata": {},
   "outputs": [
    {
     "data": {
      "text/html": [
       "<div>\n",
       "<style scoped>\n",
       "    .dataframe tbody tr th:only-of-type {\n",
       "        vertical-align: middle;\n",
       "    }\n",
       "\n",
       "    .dataframe tbody tr th {\n",
       "        vertical-align: top;\n",
       "    }\n",
       "\n",
       "    .dataframe thead th {\n",
       "        text-align: right;\n",
       "    }\n",
       "</style>\n",
       "<table border=\"1\" class=\"dataframe\">\n",
       "  <thead>\n",
       "    <tr style=\"text-align: right;\">\n",
       "      <th></th>\n",
       "      <th>tweet_id</th>\n",
       "      <th>tweet</th>\n",
       "      <th>user of the tweet</th>\n",
       "      <th>Prediction</th>\n",
       "    </tr>\n",
       "  </thead>\n",
       "  <tbody>\n",
       "    <tr>\n",
       "      <th>0</th>\n",
       "      <td>1654250127173775361</td>\n",
       "      <td>@TheDemocrats Remember that the @DNC fuels div...</td>\n",
       "      <td>RealTemanson</td>\n",
       "      <td>0</td>\n",
       "    </tr>\n",
       "    <tr>\n",
       "      <th>1</th>\n",
       "      <td>1654250115471908864</td>\n",
       "      <td>@TheDemocrats Ã°ÂÂ¤Â¡Ã°ÂÂ¤Â¡ https://t.co/vk...</td>\n",
       "      <td>DV652</td>\n",
       "      <td>0</td>\n",
       "    </tr>\n",
       "    <tr>\n",
       "      <th>2</th>\n",
       "      <td>1654250112816668675</td>\n",
       "      <td>@TheDemocrats https://t.co/kFgwj7VPLo</td>\n",
       "      <td>YourFrickenJob</td>\n",
       "      <td>0</td>\n",
       "    </tr>\n",
       "    <tr>\n",
       "      <th>3</th>\n",
       "      <td>1654249310245244929</td>\n",
       "      <td>@TheDemocrats This is a lie.</td>\n",
       "      <td>broncos19801</td>\n",
       "      <td>0</td>\n",
       "    </tr>\n",
       "    <tr>\n",
       "      <th>4</th>\n",
       "      <td>1654249258571137024</td>\n",
       "      <td>@TheDemocrats https://t.co/1YnYE3zK3H</td>\n",
       "      <td>BroomallBr42259</td>\n",
       "      <td>0</td>\n",
       "    </tr>\n",
       "    <tr>\n",
       "      <th>...</th>\n",
       "      <td>...</td>\n",
       "      <td>...</td>\n",
       "      <td>...</td>\n",
       "      <td>...</td>\n",
       "    </tr>\n",
       "    <tr>\n",
       "      <th>78</th>\n",
       "      <td>1654247225143226368</td>\n",
       "      <td>@TheDemocrats Ã°ÂÂ¤Â£Ã°ÂÂÂÃ°ÂÂ¤Â£Ã°ÂÂÂ...</td>\n",
       "      <td>soniclore</td>\n",
       "      <td>0</td>\n",
       "    </tr>\n",
       "    <tr>\n",
       "      <th>79</th>\n",
       "      <td>1654247144570617856</td>\n",
       "      <td>@TheDemocrats Uh, now we will just have to wai...</td>\n",
       "      <td>FrankBa99193526</td>\n",
       "      <td>0</td>\n",
       "    </tr>\n",
       "    <tr>\n",
       "      <th>80</th>\n",
       "      <td>1654249358760591361</td>\n",
       "      <td>@TheDemocrats A complete disaster.</td>\n",
       "      <td>sco19663538</td>\n",
       "      <td>0</td>\n",
       "    </tr>\n",
       "    <tr>\n",
       "      <th>81</th>\n",
       "      <td>1654250160120033283</td>\n",
       "      <td>@TheDemocrats https://t.co/ISaNqjwcVQ</td>\n",
       "      <td>Bill27992994</td>\n",
       "      <td>0</td>\n",
       "    </tr>\n",
       "    <tr>\n",
       "      <th>82</th>\n",
       "      <td>1654249406575640576</td>\n",
       "      <td>@TheDemocrats Blind...like all of his followers</td>\n",
       "      <td>kcChris39</td>\n",
       "      <td>0</td>\n",
       "    </tr>\n",
       "  </tbody>\n",
       "</table>\n",
       "<p>83 rows × 4 columns</p>\n",
       "</div>"
      ],
      "text/plain": [
       "               tweet_id                                              tweet  \\\n",
       "0   1654250127173775361  @TheDemocrats Remember that the @DNC fuels div...   \n",
       "1   1654250115471908864  @TheDemocrats Ã°ÂÂ¤Â¡Ã°ÂÂ¤Â¡ https://t.co/vk...   \n",
       "2   1654250112816668675              @TheDemocrats https://t.co/kFgwj7VPLo   \n",
       "3   1654249310245244929                       @TheDemocrats This is a lie.   \n",
       "4   1654249258571137024              @TheDemocrats https://t.co/1YnYE3zK3H   \n",
       "..                  ...                                                ...   \n",
       "78  1654247225143226368  @TheDemocrats Ã°ÂÂ¤Â£Ã°ÂÂÂÃ°ÂÂ¤Â£Ã°ÂÂÂ...   \n",
       "79  1654247144570617856  @TheDemocrats Uh, now we will just have to wai...   \n",
       "80  1654249358760591361                 @TheDemocrats A complete disaster.   \n",
       "81  1654250160120033283              @TheDemocrats https://t.co/ISaNqjwcVQ   \n",
       "82  1654249406575640576    @TheDemocrats Blind...like all of his followers   \n",
       "\n",
       "   user of the tweet  Prediction  \n",
       "0       RealTemanson           0  \n",
       "1              DV652           0  \n",
       "2     YourFrickenJob           0  \n",
       "3       broncos19801           0  \n",
       "4    BroomallBr42259           0  \n",
       "..               ...         ...  \n",
       "78         soniclore           0  \n",
       "79   FrankBa99193526           0  \n",
       "80       sco19663538           0  \n",
       "81      Bill27992994           0  \n",
       "82         kcChris39           0  \n",
       "\n",
       "[83 rows x 4 columns]"
      ]
     },
     "execution_count": 112,
     "metadata": {},
     "output_type": "execute_result"
    }
   ],
   "source": [
    "new_column_series = pd.Series(combine_pred)\n",
    "\n",
    "# add the new column to the original dataframe\n",
    "df.insert(loc=3,column='Prediction', value=new_column_series)\n",
    "df"
   ]
  },
  {
   "cell_type": "code",
   "execution_count": 113,
   "metadata": {},
   "outputs": [
    {
     "data": {
      "text/plain": [
       "<BarContainer object of 2 artists>"
      ]
     },
     "execution_count": 113,
     "metadata": {},
     "output_type": "execute_result"
    },
    {
     "data": {
      "text/plain": [
       "Text(0.5, 1.0, 'Distribution of Toxic and Non-Toxic Tweets')"
      ]
     },
     "execution_count": 113,
     "metadata": {},
     "output_type": "execute_result"
    },
    {
     "data": {
      "text/plain": [
       "Text(0.5, 0, 'Tweet Type')"
      ]
     },
     "execution_count": 113,
     "metadata": {},
     "output_type": "execute_result"
    },
    {
     "data": {
      "text/plain": [
       "Text(0, 0.5, 'Count')"
      ]
     },
     "execution_count": 113,
     "metadata": {},
     "output_type": "execute_result"
    },
    {
     "data": {
      "image/png": "[encoded data removed]",
      "text/plain": [
       "<Figure size 640x480 with 1 Axes>"
      ]
     },
     "metadata": {},
     "output_type": "display_data"
    }
   ],
   "source": [
    "counts = df[\"Prediction\"].value_counts()\n",
    "\n",
    "# Create a bar chart\n",
    "plt.bar([\"Non-toxic\", \"Toxic\"], counts)\n",
    "plt.title(\"Distribution of Toxic and Non-Toxic Tweets\")\n",
    "plt.xlabel(\"Tweet Type\")\n",
    "plt.ylabel(\"Count\")\n",
    "plt.show()"
   ]
  },
  {
   "cell_type": "markdown",
   "metadata": {},
   "source": [
    "**Identifying Toxic Users**"
   ]
  },
  {
   "cell_type": "code",
   "execution_count": 114,
   "metadata": {},
   "outputs": [
    {
     "data": {
      "text/plain": [
       "8"
      ]
     },
     "execution_count": 114,
     "metadata": {},
     "output_type": "execute_result"
    }
   ],
   "source": [
    "toxic_users = [ i[\"user of the tweet\"] for index,i in df.iterrows() if i[\"Prediction\"] == 1]\n",
    "len(toxic_users)"
   ]
  },
  {
   "cell_type": "code",
   "execution_count": 115,
   "metadata": {},
   "outputs": [
    {
     "data": {
      "text/plain": [
       "8"
      ]
     },
     "execution_count": 115,
     "metadata": {},
     "output_type": "execute_result"
    }
   ],
   "source": [
    "toxic_users_unique = list(set(toxic_users))\n",
    "len(toxic_users_unique)"
   ]
  },
  {
   "cell_type": "markdown",
   "metadata": {},
   "source": [
    "**These are the toxic users**"
   ]
  },
  {
   "cell_type": "code",
   "execution_count": 116,
   "metadata": {},
   "outputs": [
    {
     "data": {
      "text/plain": [
       "['toast36884',\n",
       " 'NancyFi61103202',\n",
       " 'Dana59226229',\n",
       " 'Al1492',\n",
       " 'wi46180626',\n",
       " 'maudrit',\n",
       " 'Retiredaf3',\n",
       " 'RayAnde34649425']"
      ]
     },
     "execution_count": 116,
     "metadata": {},
     "output_type": "execute_result"
    }
   ],
   "source": [
    "toxic_users_unique\n"
   ]
  },
  {
   "cell_type": "markdown",
   "metadata": {},
   "source": [
    "**Creating a Social Network**"
   ]
  },
  {
   "cell_type": "markdown",
   "metadata": {},
   "source": [
    "<font color=red><b>The below code needs Twitter Key to run<b></font>"
   ]
  },
  {
   "cell_type": "code",
   "execution_count": 117,
   "metadata": {},
   "outputs": [
    {
     "data": {
      "image/png": "[encoded data removed]",
      "text/plain": [
       "<Figure size 640x480 with 1 Axes>"
      ]
     },
     "metadata": {},
     "output_type": "display_data"
    }
   ],
   "source": [
    "import tweepy\n",
    "import networkx as nx\n",
    "import matplotlib.pyplot as plt\n",
    "\n",
    "G = nx.Graph()\n",
    "username = \"thedemocrats\"\n",
    "\n",
    "users = api.lookup_users(screen_name=toxic_users_unique)\n",
    "for user in users:\n",
    "    G.add_node(user.screen_name, name=user.name, color=\"blue\")\n",
    "G.add_node(username,name=username,color=\"red\")\n",
    "\n",
    "for user_1 in toxic_users_unique:\n",
    "    for user_2 in toxic_users_unique:\n",
    "        if(user_1 != user_2):\n",
    "            try:\n",
    "                friendship = api.get_friendship(source_screen_name=user_1,target_screen_name=user_2)[0]\n",
    "            except tweepy.TweepyException as e:\n",
    "                if \"Too Many Requests\" in str(e):\n",
    "                    print(\"Rate limit exceeded. Waiting for 15 minutes.\")\n",
    "                    time.sleep(15 * 60)  # Wait for 15 minutes\n",
    "                    friendship = api.get_friendship(source_screen_name=user_1,target_screen_name=user_2)[0]\n",
    "                else:\n",
    "                    print(e)\n",
    "                # print(friendship)\n",
    "            if friendship.following:\n",
    "                    G.add_edge(user_1,user_2)\n",
    "            \n",
    "\n",
    "node_colors = {}\n",
    "for node in G.nodes():\n",
    "    if node == username:\n",
    "        node_colors[node] = 'red'\n",
    "    elif node in toxic_users_unique:\n",
    "        node_colors[node] = 'blue'\n",
    "\n",
    "for user in toxic_users_unique:\n",
    "    G.add_edge(username,user)\n",
    "\n",
    "nx.draw(G, with_labels=True, node_color=[node_colors[node] for node in G.nodes()])\n",
    "plt.show()\n"
   ]
  },
  {
   "cell_type": "markdown",
   "metadata": {},
   "source": [
    "**Extract the tweets of all the toxic users**"
   ]
  },
  {
   "cell_type": "markdown",
   "metadata": {},
   "source": [
    "<font color=red><b>The below code needs Twitter Key to run<b></font>"
   ]
  },
  {
   "cell_type": "markdown",
   "metadata": {},
   "source": [
    "**Skip this step:**\n",
    "The code that retrieves data from the Twitter API and builds a dataframe can be skipped since we have already retrieved the tweets from Twitter and created a CSV file."
   ]
  },
  {
   "cell_type": "code",
   "execution_count": 118,
   "metadata": {},
   "outputs": [
    {
     "data": {
      "text/html": [
       "<div>\n",
       "<style scoped>\n",
       "    .dataframe tbody tr th:only-of-type {\n",
       "        vertical-align: middle;\n",
       "    }\n",
       "\n",
       "    .dataframe tbody tr th {\n",
       "        vertical-align: top;\n",
       "    }\n",
       "\n",
       "    .dataframe thead th {\n",
       "        text-align: right;\n",
       "    }\n",
       "</style>\n",
       "<table border=\"1\" class=\"dataframe\">\n",
       "  <thead>\n",
       "    <tr style=\"text-align: right;\">\n",
       "      <th></th>\n",
       "      <th>username</th>\n",
       "      <th>tweet</th>\n",
       "      <th>metadata</th>\n",
       "    </tr>\n",
       "  </thead>\n",
       "  <tbody>\n",
       "    <tr>\n",
       "      <th>0</th>\n",
       "      <td>toast36884</td>\n",
       "      <td>@TheDemocrats Who the hell you trying to bull ...</td>\n",
       "      <td>{'created_at': 2023-05-04 22:22:36+00:00, 'id'...</td>\n",
       "    </tr>\n",
       "    <tr>\n",
       "      <th>1</th>\n",
       "      <td>NancyFi61103202</td>\n",
       "      <td>@NEWSMAX Just bring back the Clydesdales</td>\n",
       "      <td>{'created_at': 2023-05-04 22:16:53+00:00, 'id'...</td>\n",
       "    </tr>\n",
       "    <tr>\n",
       "      <th>2</th>\n",
       "      <td>NancyFi61103202</td>\n",
       "      <td>RT @gatewaypundit: Navy SEAL Who Killed Bin La...</td>\n",
       "      <td>{'created_at': 2023-05-04 22:15:42+00:00, 'id'...</td>\n",
       "    </tr>\n",
       "    <tr>\n",
       "      <th>3</th>\n",
       "      <td>NancyFi61103202</td>\n",
       "      <td>RT @MattWalshBlog: Democracy was a mistake</td>\n",
       "      <td>{'created_at': 2023-05-04 22:15:15+00:00, 'id'...</td>\n",
       "    </tr>\n",
       "    <tr>\n",
       "      <th>4</th>\n",
       "      <td>NancyFi61103202</td>\n",
       "      <td>RT @SarahisCensored: The loudest, most disrupt...</td>\n",
       "      <td>{'created_at': 2023-05-04 22:13:21+00:00, 'id'...</td>\n",
       "    </tr>\n",
       "    <tr>\n",
       "      <th>...</th>\n",
       "      <td>...</td>\n",
       "      <td>...</td>\n",
       "      <td>...</td>\n",
       "    </tr>\n",
       "    <tr>\n",
       "      <th>17217</th>\n",
       "      <td>RayAnde34649425</td>\n",
       "      <td>@POTUS A pistol was used by a BLACK guy to own...</td>\n",
       "      <td>{'created_at': 2023-02-14 21:38:20+00:00, 'id'...</td>\n",
       "    </tr>\n",
       "    <tr>\n",
       "      <th>17218</th>\n",
       "      <td>RayAnde34649425</td>\n",
       "      <td>Why did the government derail a train to kill ...</td>\n",
       "      <td>{'created_at': 2023-02-14 21:36:25+00:00, 'id'...</td>\n",
       "    </tr>\n",
       "    <tr>\n",
       "      <th>17219</th>\n",
       "      <td>RayAnde34649425</td>\n",
       "      <td>@krassenstein If they kept the guy in jail pro...</td>\n",
       "      <td>{'created_at': 2023-02-14 21:28:20+00:00, 'id'...</td>\n",
       "    </tr>\n",
       "    <tr>\n",
       "      <th>17220</th>\n",
       "      <td>RayAnde34649425</td>\n",
       "      <td>@BarackObama @MichelleObama FU gay guy</td>\n",
       "      <td>{'created_at': 2023-02-14 21:26:43+00:00, 'id'...</td>\n",
       "    </tr>\n",
       "    <tr>\n",
       "      <th>17221</th>\n",
       "      <td>RayAnde34649425</td>\n",
       "      <td>@Jim_Jordan Send illegals up in balloons and s...</td>\n",
       "      <td>{'created_at': 2023-02-14 19:55:16+00:00, 'id'...</td>\n",
       "    </tr>\n",
       "  </tbody>\n",
       "</table>\n",
       "<p>17222 rows × 3 columns</p>\n",
       "</div>"
      ],
      "text/plain": [
       "              username                                              tweet  \\\n",
       "0           toast36884  @TheDemocrats Who the hell you trying to bull ...   \n",
       "1      NancyFi61103202           @NEWSMAX Just bring back the Clydesdales   \n",
       "2      NancyFi61103202  RT @gatewaypundit: Navy SEAL Who Killed Bin La...   \n",
       "3      NancyFi61103202         RT @MattWalshBlog: Democracy was a mistake   \n",
       "4      NancyFi61103202  RT @SarahisCensored: The loudest, most disrupt...   \n",
       "...                ...                                                ...   \n",
       "17217  RayAnde34649425  @POTUS A pistol was used by a BLACK guy to own...   \n",
       "17218  RayAnde34649425  Why did the government derail a train to kill ...   \n",
       "17219  RayAnde34649425  @krassenstein If they kept the guy in jail pro...   \n",
       "17220  RayAnde34649425             @BarackObama @MichelleObama FU gay guy   \n",
       "17221  RayAnde34649425  @Jim_Jordan Send illegals up in balloons and s...   \n",
       "\n",
       "                                                metadata  \n",
       "0      {'created_at': 2023-05-04 22:22:36+00:00, 'id'...  \n",
       "1      {'created_at': 2023-05-04 22:16:53+00:00, 'id'...  \n",
       "2      {'created_at': 2023-05-04 22:15:42+00:00, 'id'...  \n",
       "3      {'created_at': 2023-05-04 22:15:15+00:00, 'id'...  \n",
       "4      {'created_at': 2023-05-04 22:13:21+00:00, 'id'...  \n",
       "...                                                  ...  \n",
       "17217  {'created_at': 2023-02-14 21:38:20+00:00, 'id'...  \n",
       "17218  {'created_at': 2023-02-14 21:36:25+00:00, 'id'...  \n",
       "17219  {'created_at': 2023-02-14 21:28:20+00:00, 'id'...  \n",
       "17220  {'created_at': 2023-02-14 21:26:43+00:00, 'id'...  \n",
       "17221  {'created_at': 2023-02-14 19:55:16+00:00, 'id'...  \n",
       "\n",
       "[17222 rows x 3 columns]"
      ]
     },
     "execution_count": 118,
     "metadata": {},
     "output_type": "execute_result"
    }
   ],
   "source": [
    "# Define list of Twitter usernames\n",
    "usernames = toxic_users_unique\n",
    "\n",
    "# Define a function to collect tweets and metadata for a given user\n",
    "def get_user_tweets(username):\n",
    "    tweets = []\n",
    "    metadata = []\n",
    "    try:\n",
    "        get_tweets = tweepy.Cursor(api.user_timeline, screen_name=username, tweet_mode='extended')\n",
    "    except tweepy.TweepyException as e:\n",
    "                if \"Too Many Requests\" in str(e):\n",
    "                    print(\"Rate limit exceeded. Waiting for 15 minutes.\")\n",
    "                    time.sleep(15 * 60)  # Wait for 15 minutes\n",
    "                    get_tweets = tweepy.Cursor(api.user_timeline, screen_name=username, tweet_mode='extended')\n",
    "                else:\n",
    "                    print(e) \n",
    "    for tweet in get_tweets.items():\n",
    "        tweets.append(tweet.full_text)\n",
    "        metadata.append({'created_at': tweet.created_at,\n",
    "                         'id': tweet.id,\n",
    "                         'user_screen_name': tweet.user.screen_name,\n",
    "                         'user_name': tweet.user.name,\n",
    "                         'user_location': tweet.user.location,\n",
    "                         'user_followers_count': tweet.user.followers_count,\n",
    "                         'user_friends_count': tweet.user.friends_count,\n",
    "                         'user_created_at': tweet.user.created_at})\n",
    "    return tweets, metadata\n",
    "\n",
    "# Define an empty dataframe to store the data\n",
    "df = pd.DataFrame()\n",
    "\n",
    "# Collect data for each user and append to the dataframe\n",
    "for username in usernames:\n",
    "    try:\n",
    "        tweets, metadata = get_user_tweets(username)\n",
    "    except tweepy.TweepyException as e:\n",
    "                if \"Too Many Requests\" in str(e):\n",
    "                    print(\"Rate limit exceeded. Waiting for 15 minutes.\")\n",
    "                    time.sleep(15 * 60)  # Wait for 15 minutes\n",
    "                    tweets, metadata = get_user_tweets(username)\n",
    "                else:\n",
    "                    print(e) \n",
    "    temp_df = pd.DataFrame({'username': username,\n",
    "                            'tweet': tweets,\n",
    "                            'metadata': metadata})\n",
    "    df = pd.concat([df, temp_df], ignore_index=True)\n",
    "\n",
    "# Display the dataframe\n",
    "df\n"
   ]
  },
  {
   "cell_type": "markdown",
   "metadata": {},
   "source": [
    "Load the dataframe using CSV file. <br>\n",
    "<font color=red><b>Skip the below cell if you want to use the live data extracted from the twitter<b></font>"
   ]
  },
  {
   "cell_type": "code",
   "execution_count": 121,
   "metadata": {},
   "outputs": [
    {
     "data": {
      "text/html": [
       "<div>\n",
       "<style scoped>\n",
       "    .dataframe tbody tr th:only-of-type {\n",
       "        vertical-align: middle;\n",
       "    }\n",
       "\n",
       "    .dataframe tbody tr th {\n",
       "        vertical-align: top;\n",
       "    }\n",
       "\n",
       "    .dataframe thead th {\n",
       "        text-align: right;\n",
       "    }\n",
       "</style>\n",
       "<table border=\"1\" class=\"dataframe\">\n",
       "  <thead>\n",
       "    <tr style=\"text-align: right;\">\n",
       "      <th></th>\n",
       "      <th>username</th>\n",
       "      <th>tweet</th>\n",
       "      <th>metadata</th>\n",
       "    </tr>\n",
       "  </thead>\n",
       "  <tbody>\n",
       "    <tr>\n",
       "      <th>0</th>\n",
       "      <td>toast36884</td>\n",
       "      <td>@TheDemocrats Who the hell you trying to bull ...</td>\n",
       "      <td>{'created_at': datetime.datetime(2023, 5, 4, 2...</td>\n",
       "    </tr>\n",
       "    <tr>\n",
       "      <th>1</th>\n",
       "      <td>NancyFi61103202</td>\n",
       "      <td>@NEWSMAX Just bring back the Clydesdales</td>\n",
       "      <td>{'created_at': datetime.datetime(2023, 5, 4, 2...</td>\n",
       "    </tr>\n",
       "    <tr>\n",
       "      <th>2</th>\n",
       "      <td>NancyFi61103202</td>\n",
       "      <td>RT @gatewaypundit: Navy SEAL Who Killed Bin La...</td>\n",
       "      <td>{'created_at': datetime.datetime(2023, 5, 4, 2...</td>\n",
       "    </tr>\n",
       "    <tr>\n",
       "      <th>3</th>\n",
       "      <td>NancyFi61103202</td>\n",
       "      <td>RT @MattWalshBlog: Democracy was a mistake</td>\n",
       "      <td>{'created_at': datetime.datetime(2023, 5, 4, 2...</td>\n",
       "    </tr>\n",
       "    <tr>\n",
       "      <th>4</th>\n",
       "      <td>NancyFi61103202</td>\n",
       "      <td>RT @SarahisCensored: The loudest, most disrupt...</td>\n",
       "      <td>{'created_at': datetime.datetime(2023, 5, 4, 2...</td>\n",
       "    </tr>\n",
       "    <tr>\n",
       "      <th>...</th>\n",
       "      <td>...</td>\n",
       "      <td>...</td>\n",
       "      <td>...</td>\n",
       "    </tr>\n",
       "    <tr>\n",
       "      <th>17217</th>\n",
       "      <td>RayAnde34649425</td>\n",
       "      <td>@POTUS A pistol was used by a BLACK guy to own...</td>\n",
       "      <td>{'created_at': datetime.datetime(2023, 2, 14, ...</td>\n",
       "    </tr>\n",
       "    <tr>\n",
       "      <th>17218</th>\n",
       "      <td>RayAnde34649425</td>\n",
       "      <td>Why did the government derail a train to kill ...</td>\n",
       "      <td>{'created_at': datetime.datetime(2023, 2, 14, ...</td>\n",
       "    </tr>\n",
       "    <tr>\n",
       "      <th>17219</th>\n",
       "      <td>RayAnde34649425</td>\n",
       "      <td>@krassenstein If they kept the guy in jail pro...</td>\n",
       "      <td>{'created_at': datetime.datetime(2023, 2, 14, ...</td>\n",
       "    </tr>\n",
       "    <tr>\n",
       "      <th>17220</th>\n",
       "      <td>RayAnde34649425</td>\n",
       "      <td>@BarackObama @MichelleObama FU gay guy</td>\n",
       "      <td>{'created_at': datetime.datetime(2023, 2, 14, ...</td>\n",
       "    </tr>\n",
       "    <tr>\n",
       "      <th>17221</th>\n",
       "      <td>RayAnde34649425</td>\n",
       "      <td>@Jim_Jordan Send illegals up in balloons and s...</td>\n",
       "      <td>{'created_at': datetime.datetime(2023, 2, 14, ...</td>\n",
       "    </tr>\n",
       "  </tbody>\n",
       "</table>\n",
       "<p>17222 rows × 3 columns</p>\n",
       "</div>"
      ],
      "text/plain": [
       "              username                                              tweet  \\\n",
       "0           toast36884  @TheDemocrats Who the hell you trying to bull ...   \n",
       "1      NancyFi61103202           @NEWSMAX Just bring back the Clydesdales   \n",
       "2      NancyFi61103202  RT @gatewaypundit: Navy SEAL Who Killed Bin La...   \n",
       "3      NancyFi61103202         RT @MattWalshBlog: Democracy was a mistake   \n",
       "4      NancyFi61103202  RT @SarahisCensored: The loudest, most disrupt...   \n",
       "...                ...                                                ...   \n",
       "17217  RayAnde34649425  @POTUS A pistol was used by a BLACK guy to own...   \n",
       "17218  RayAnde34649425  Why did the government derail a train to kill ...   \n",
       "17219  RayAnde34649425  @krassenstein If they kept the guy in jail pro...   \n",
       "17220  RayAnde34649425             @BarackObama @MichelleObama FU gay guy   \n",
       "17221  RayAnde34649425  @Jim_Jordan Send illegals up in balloons and s...   \n",
       "\n",
       "                                                metadata  \n",
       "0      {'created_at': datetime.datetime(2023, 5, 4, 2...  \n",
       "1      {'created_at': datetime.datetime(2023, 5, 4, 2...  \n",
       "2      {'created_at': datetime.datetime(2023, 5, 4, 2...  \n",
       "3      {'created_at': datetime.datetime(2023, 5, 4, 2...  \n",
       "4      {'created_at': datetime.datetime(2023, 5, 4, 2...  \n",
       "...                                                  ...  \n",
       "17217  {'created_at': datetime.datetime(2023, 2, 14, ...  \n",
       "17218  {'created_at': datetime.datetime(2023, 2, 14, ...  \n",
       "17219  {'created_at': datetime.datetime(2023, 2, 14, ...  \n",
       "17220  {'created_at': datetime.datetime(2023, 2, 14, ...  \n",
       "17221  {'created_at': datetime.datetime(2023, 2, 14, ...  \n",
       "\n",
       "[17222 rows x 3 columns]"
      ]
     },
     "execution_count": 121,
     "metadata": {},
     "output_type": "execute_result"
    }
   ],
   "source": [
    "df = pd.read_csv(\"./Dataset/toxic_users_tweets.csv\", encoding = DATASET_ENCODING)\n",
    "df"
   ]
  },
  {
   "cell_type": "markdown",
   "metadata": {},
   "source": [
    "**Aggregate all tweets for each user to form a document**"
   ]
  },
  {
   "cell_type": "code",
   "execution_count": 124,
   "metadata": {},
   "outputs": [
    {
     "data": {
      "text/html": [
       "<div>\n",
       "<style scoped>\n",
       "    .dataframe tbody tr th:only-of-type {\n",
       "        vertical-align: middle;\n",
       "    }\n",
       "\n",
       "    .dataframe tbody tr th {\n",
       "        vertical-align: top;\n",
       "    }\n",
       "\n",
       "    .dataframe thead th {\n",
       "        text-align: right;\n",
       "    }\n",
       "</style>\n",
       "<table border=\"1\" class=\"dataframe\">\n",
       "  <thead>\n",
       "    <tr style=\"text-align: right;\">\n",
       "      <th></th>\n",
       "      <th>username</th>\n",
       "      <th>tweet</th>\n",
       "      <th>metadata</th>\n",
       "    </tr>\n",
       "  </thead>\n",
       "  <tbody>\n",
       "    <tr>\n",
       "      <th>0</th>\n",
       "      <td>toast36884</td>\n",
       "      <td>@TheDemocrats Who the hell you trying to bull ...</td>\n",
       "      <td>{'created_at': datetime.datetime(2023, 5, 4, 2...</td>\n",
       "    </tr>\n",
       "    <tr>\n",
       "      <th>1</th>\n",
       "      <td>NancyFi61103202</td>\n",
       "      <td>@NEWSMAX Just bring back the Clydesdales</td>\n",
       "      <td>{'created_at': datetime.datetime(2023, 5, 4, 2...</td>\n",
       "    </tr>\n",
       "    <tr>\n",
       "      <th>2</th>\n",
       "      <td>NancyFi61103202</td>\n",
       "      <td>RT @gatewaypundit: Navy SEAL Who Killed Bin La...</td>\n",
       "      <td>{'created_at': datetime.datetime(2023, 5, 4, 2...</td>\n",
       "    </tr>\n",
       "    <tr>\n",
       "      <th>3</th>\n",
       "      <td>NancyFi61103202</td>\n",
       "      <td>RT @MattWalshBlog: Democracy was a mistake</td>\n",
       "      <td>{'created_at': datetime.datetime(2023, 5, 4, 2...</td>\n",
       "    </tr>\n",
       "    <tr>\n",
       "      <th>4</th>\n",
       "      <td>NancyFi61103202</td>\n",
       "      <td>RT @SarahisCensored: The loudest, most disrupt...</td>\n",
       "      <td>{'created_at': datetime.datetime(2023, 5, 4, 2...</td>\n",
       "    </tr>\n",
       "  </tbody>\n",
       "</table>\n",
       "</div>"
      ],
      "text/plain": [
       "          username                                              tweet  \\\n",
       "0       toast36884  @TheDemocrats Who the hell you trying to bull ...   \n",
       "1  NancyFi61103202           @NEWSMAX Just bring back the Clydesdales   \n",
       "2  NancyFi61103202  RT @gatewaypundit: Navy SEAL Who Killed Bin La...   \n",
       "3  NancyFi61103202         RT @MattWalshBlog: Democracy was a mistake   \n",
       "4  NancyFi61103202  RT @SarahisCensored: The loudest, most disrupt...   \n",
       "\n",
       "                                            metadata  \n",
       "0  {'created_at': datetime.datetime(2023, 5, 4, 2...  \n",
       "1  {'created_at': datetime.datetime(2023, 5, 4, 2...  \n",
       "2  {'created_at': datetime.datetime(2023, 5, 4, 2...  \n",
       "3  {'created_at': datetime.datetime(2023, 5, 4, 2...  \n",
       "4  {'created_at': datetime.datetime(2023, 5, 4, 2...  "
      ]
     },
     "execution_count": 124,
     "metadata": {},
     "output_type": "execute_result"
    }
   ],
   "source": [
    "# Generic inputs for most ML tasks\n",
    "import pandas as pd\n",
    "pd.options.display.float_format = '{:,.2f}'.format\n",
    "\n",
    "# setup interactive notebook mode\n",
    "from IPython.core.interactiveshell import InteractiveShell\n",
    "InteractiveShell.ast_node_interactivity = \"all\"\n",
    "\n",
    "from IPython.display import display, HTML\n",
    "import numpy as np\n",
    "from sklearn.datasets import fetch_20newsgroups\n",
    "\n",
    "rawdata = df\n",
    "\n",
    "rawdata.head()\n",
    "unique_users = rawdata['username'].unique()\n",
    "user_tweets = dict()\n",
    "\n",
    "#create a document for each users (dictionary of documents)\n",
    "for user in unique_users :\n",
    "    tweets = rawdata[rawdata['username'] == user ]['tweet']\n",
    "    user_tweets[user] = \"\"\n",
    "    for tweet in tweets :\n",
    "        user_tweets[user] = user_tweets[user] + \" \" + tweet\n"
   ]
  },
  {
   "cell_type": "markdown",
   "metadata": {},
   "source": [
    "**K-Means Clustering**"
   ]
  },
  {
   "cell_type": "code",
   "execution_count": 122,
   "metadata": {},
   "outputs": [
    {
     "data": {
      "text/html": [
       "<style>#sk-container-id-14 {color: black;background-color: white;}#sk-container-id-14 pre{padding: 0;}#sk-container-id-14 div.sk-toggleable {background-color: white;}#sk-container-id-14 label.sk-toggleable__label {cursor: pointer;display: block;width: 100%;margin-bottom: 0;padding: 0.3em;box-sizing: border-box;text-align: center;}#sk-container-id-14 label.sk-toggleable__label-arrow:before {content: \"▸\";float: left;margin-right: 0.25em;color: #696969;}#sk-container-id-14 label.sk-toggleable__label-arrow:hover:before {color: black;}#sk-container-id-14 div.sk-estimator:hover label.sk-toggleable__label-arrow:before {color: black;}#sk-container-id-14 div.sk-toggleable__content {max-height: 0;max-width: 0;overflow: hidden;text-align: left;background-color: #f0f8ff;}#sk-container-id-14 div.sk-toggleable__content pre {margin: 0.2em;color: black;border-radius: 0.25em;background-color: #f0f8ff;}#sk-container-id-14 input.sk-toggleable__control:checked~div.sk-toggleable__content {max-height: 200px;max-width: 100%;overflow: auto;}#sk-container-id-14 input.sk-toggleable__control:checked~label.sk-toggleable__label-arrow:before {content: \"▾\";}#sk-container-id-14 div.sk-estimator input.sk-toggleable__control:checked~label.sk-toggleable__label {background-color: #d4ebff;}#sk-container-id-14 div.sk-label input.sk-toggleable__control:checked~label.sk-toggleable__label {background-color: #d4ebff;}#sk-container-id-14 input.sk-hidden--visually {border: 0;clip: rect(1px 1px 1px 1px);clip: rect(1px, 1px, 1px, 1px);height: 1px;margin: -1px;overflow: hidden;padding: 0;position: absolute;width: 1px;}#sk-container-id-14 div.sk-estimator {font-family: monospace;background-color: #f0f8ff;border: 1px dotted black;border-radius: 0.25em;box-sizing: border-box;margin-bottom: 0.5em;}#sk-container-id-14 div.sk-estimator:hover {background-color: #d4ebff;}#sk-container-id-14 div.sk-parallel-item::after {content: \"\";width: 100%;border-bottom: 1px solid gray;flex-grow: 1;}#sk-container-id-14 div.sk-label:hover label.sk-toggleable__label {background-color: #d4ebff;}#sk-container-id-14 div.sk-serial::before {content: \"\";position: absolute;border-left: 1px solid gray;box-sizing: border-box;top: 0;bottom: 0;left: 50%;z-index: 0;}#sk-container-id-14 div.sk-serial {display: flex;flex-direction: column;align-items: center;background-color: white;padding-right: 0.2em;padding-left: 0.2em;position: relative;}#sk-container-id-14 div.sk-item {position: relative;z-index: 1;}#sk-container-id-14 div.sk-parallel {display: flex;align-items: stretch;justify-content: center;background-color: white;position: relative;}#sk-container-id-14 div.sk-item::before, #sk-container-id-14 div.sk-parallel-item::before {content: \"\";position: absolute;border-left: 1px solid gray;box-sizing: border-box;top: 0;bottom: 0;left: 50%;z-index: -1;}#sk-container-id-14 div.sk-parallel-item {display: flex;flex-direction: column;z-index: 1;position: relative;background-color: white;}#sk-container-id-14 div.sk-parallel-item:first-child::after {align-self: flex-end;width: 50%;}#sk-container-id-14 div.sk-parallel-item:last-child::after {align-self: flex-start;width: 50%;}#sk-container-id-14 div.sk-parallel-item:only-child::after {width: 0;}#sk-container-id-14 div.sk-dashed-wrapped {border: 1px dashed gray;margin: 0 0.4em 0.5em 0.4em;box-sizing: border-box;padding-bottom: 0.4em;background-color: white;}#sk-container-id-14 div.sk-label label {font-family: monospace;font-weight: bold;display: inline-block;line-height: 1.2em;}#sk-container-id-14 div.sk-label-container {text-align: center;}#sk-container-id-14 div.sk-container {/* jupyter's `normalize.less` sets `[hidden] { display: none; }` but bootstrap.min.css set `[hidden] { display: none !important; }` so we also need the `!important` here to be able to override the default hidden behavior on the sphinx rendered scikit-learn.org. See: https://github.com/scikit-learn/scikit-learn/issues/21755 */display: inline-block !important;position: relative;}#sk-container-id-14 div.sk-text-repr-fallback {display: none;}</style><div id=\"sk-container-id-14\" class=\"sk-top-container\"><div class=\"sk-text-repr-fallback\"><pre>KMeans(n_clusters=2, random_state=42)</pre><b>In a Jupyter environment, please rerun this cell to show the HTML representation or trust the notebook. <br />On GitHub, the HTML representation is unable to render, please try loading this page with nbviewer.org.</b></div><div class=\"sk-container\" hidden><div class=\"sk-item\"><div class=\"sk-estimator sk-toggleable\"><input class=\"sk-toggleable__control sk-hidden--visually\" id=\"sk-estimator-id-32\" type=\"checkbox\" checked><label for=\"sk-estimator-id-32\" class=\"sk-toggleable__label sk-toggleable__label-arrow\">KMeans</label><div class=\"sk-toggleable__content\"><pre>KMeans(n_clusters=2, random_state=42)</pre></div></div></div></div></div>"
      ],
      "text/plain": [
       "KMeans(n_clusters=2, random_state=42)"
      ]
     },
     "execution_count": 122,
     "metadata": {},
     "output_type": "execute_result"
    },
    {
     "data": {
      "text/html": [
       "<style>#sk-container-id-15 {color: black;background-color: white;}#sk-container-id-15 pre{padding: 0;}#sk-container-id-15 div.sk-toggleable {background-color: white;}#sk-container-id-15 label.sk-toggleable__label {cursor: pointer;display: block;width: 100%;margin-bottom: 0;padding: 0.3em;box-sizing: border-box;text-align: center;}#sk-container-id-15 label.sk-toggleable__label-arrow:before {content: \"▸\";float: left;margin-right: 0.25em;color: #696969;}#sk-container-id-15 label.sk-toggleable__label-arrow:hover:before {color: black;}#sk-container-id-15 div.sk-estimator:hover label.sk-toggleable__label-arrow:before {color: black;}#sk-container-id-15 div.sk-toggleable__content {max-height: 0;max-width: 0;overflow: hidden;text-align: left;background-color: #f0f8ff;}#sk-container-id-15 div.sk-toggleable__content pre {margin: 0.2em;color: black;border-radius: 0.25em;background-color: #f0f8ff;}#sk-container-id-15 input.sk-toggleable__control:checked~div.sk-toggleable__content {max-height: 200px;max-width: 100%;overflow: auto;}#sk-container-id-15 input.sk-toggleable__control:checked~label.sk-toggleable__label-arrow:before {content: \"▾\";}#sk-container-id-15 div.sk-estimator input.sk-toggleable__control:checked~label.sk-toggleable__label {background-color: #d4ebff;}#sk-container-id-15 div.sk-label input.sk-toggleable__control:checked~label.sk-toggleable__label {background-color: #d4ebff;}#sk-container-id-15 input.sk-hidden--visually {border: 0;clip: rect(1px 1px 1px 1px);clip: rect(1px, 1px, 1px, 1px);height: 1px;margin: -1px;overflow: hidden;padding: 0;position: absolute;width: 1px;}#sk-container-id-15 div.sk-estimator {font-family: monospace;background-color: #f0f8ff;border: 1px dotted black;border-radius: 0.25em;box-sizing: border-box;margin-bottom: 0.5em;}#sk-container-id-15 div.sk-estimator:hover {background-color: #d4ebff;}#sk-container-id-15 div.sk-parallel-item::after {content: \"\";width: 100%;border-bottom: 1px solid gray;flex-grow: 1;}#sk-container-id-15 div.sk-label:hover label.sk-toggleable__label {background-color: #d4ebff;}#sk-container-id-15 div.sk-serial::before {content: \"\";position: absolute;border-left: 1px solid gray;box-sizing: border-box;top: 0;bottom: 0;left: 50%;z-index: 0;}#sk-container-id-15 div.sk-serial {display: flex;flex-direction: column;align-items: center;background-color: white;padding-right: 0.2em;padding-left: 0.2em;position: relative;}#sk-container-id-15 div.sk-item {position: relative;z-index: 1;}#sk-container-id-15 div.sk-parallel {display: flex;align-items: stretch;justify-content: center;background-color: white;position: relative;}#sk-container-id-15 div.sk-item::before, #sk-container-id-15 div.sk-parallel-item::before {content: \"\";position: absolute;border-left: 1px solid gray;box-sizing: border-box;top: 0;bottom: 0;left: 50%;z-index: -1;}#sk-container-id-15 div.sk-parallel-item {display: flex;flex-direction: column;z-index: 1;position: relative;background-color: white;}#sk-container-id-15 div.sk-parallel-item:first-child::after {align-self: flex-end;width: 50%;}#sk-container-id-15 div.sk-parallel-item:last-child::after {align-self: flex-start;width: 50%;}#sk-container-id-15 div.sk-parallel-item:only-child::after {width: 0;}#sk-container-id-15 div.sk-dashed-wrapped {border: 1px dashed gray;margin: 0 0.4em 0.5em 0.4em;box-sizing: border-box;padding-bottom: 0.4em;background-color: white;}#sk-container-id-15 div.sk-label label {font-family: monospace;font-weight: bold;display: inline-block;line-height: 1.2em;}#sk-container-id-15 div.sk-label-container {text-align: center;}#sk-container-id-15 div.sk-container {/* jupyter's `normalize.less` sets `[hidden] { display: none; }` but bootstrap.min.css set `[hidden] { display: none !important; }` so we also need the `!important` here to be able to override the default hidden behavior on the sphinx rendered scikit-learn.org. See: https://github.com/scikit-learn/scikit-learn/issues/21755 */display: inline-block !important;position: relative;}#sk-container-id-15 div.sk-text-repr-fallback {display: none;}</style><div id=\"sk-container-id-15\" class=\"sk-top-container\"><div class=\"sk-text-repr-fallback\"><pre>KMeans(n_clusters=3, random_state=42)</pre><b>In a Jupyter environment, please rerun this cell to show the HTML representation or trust the notebook. <br />On GitHub, the HTML representation is unable to render, please try loading this page with nbviewer.org.</b></div><div class=\"sk-container\" hidden><div class=\"sk-item\"><div class=\"sk-estimator sk-toggleable\"><input class=\"sk-toggleable__control sk-hidden--visually\" id=\"sk-estimator-id-33\" type=\"checkbox\" checked><label for=\"sk-estimator-id-33\" class=\"sk-toggleable__label sk-toggleable__label-arrow\">KMeans</label><div class=\"sk-toggleable__content\"><pre>KMeans(n_clusters=3, random_state=42)</pre></div></div></div></div></div>"
      ],
      "text/plain": [
       "KMeans(n_clusters=3, random_state=42)"
      ]
     },
     "execution_count": 122,
     "metadata": {},
     "output_type": "execute_result"
    },
    {
     "data": {
      "text/html": [
       "<style>#sk-container-id-16 {color: black;background-color: white;}#sk-container-id-16 pre{padding: 0;}#sk-container-id-16 div.sk-toggleable {background-color: white;}#sk-container-id-16 label.sk-toggleable__label {cursor: pointer;display: block;width: 100%;margin-bottom: 0;padding: 0.3em;box-sizing: border-box;text-align: center;}#sk-container-id-16 label.sk-toggleable__label-arrow:before {content: \"▸\";float: left;margin-right: 0.25em;color: #696969;}#sk-container-id-16 label.sk-toggleable__label-arrow:hover:before {color: black;}#sk-container-id-16 div.sk-estimator:hover label.sk-toggleable__label-arrow:before {color: black;}#sk-container-id-16 div.sk-toggleable__content {max-height: 0;max-width: 0;overflow: hidden;text-align: left;background-color: #f0f8ff;}#sk-container-id-16 div.sk-toggleable__content pre {margin: 0.2em;color: black;border-radius: 0.25em;background-color: #f0f8ff;}#sk-container-id-16 input.sk-toggleable__control:checked~div.sk-toggleable__content {max-height: 200px;max-width: 100%;overflow: auto;}#sk-container-id-16 input.sk-toggleable__control:checked~label.sk-toggleable__label-arrow:before {content: \"▾\";}#sk-container-id-16 div.sk-estimator input.sk-toggleable__control:checked~label.sk-toggleable__label {background-color: #d4ebff;}#sk-container-id-16 div.sk-label input.sk-toggleable__control:checked~label.sk-toggleable__label {background-color: #d4ebff;}#sk-container-id-16 input.sk-hidden--visually {border: 0;clip: rect(1px 1px 1px 1px);clip: rect(1px, 1px, 1px, 1px);height: 1px;margin: -1px;overflow: hidden;padding: 0;position: absolute;width: 1px;}#sk-container-id-16 div.sk-estimator {font-family: monospace;background-color: #f0f8ff;border: 1px dotted black;border-radius: 0.25em;box-sizing: border-box;margin-bottom: 0.5em;}#sk-container-id-16 div.sk-estimator:hover {background-color: #d4ebff;}#sk-container-id-16 div.sk-parallel-item::after {content: \"\";width: 100%;border-bottom: 1px solid gray;flex-grow: 1;}#sk-container-id-16 div.sk-label:hover label.sk-toggleable__label {background-color: #d4ebff;}#sk-container-id-16 div.sk-serial::before {content: \"\";position: absolute;border-left: 1px solid gray;box-sizing: border-box;top: 0;bottom: 0;left: 50%;z-index: 0;}#sk-container-id-16 div.sk-serial {display: flex;flex-direction: column;align-items: center;background-color: white;padding-right: 0.2em;padding-left: 0.2em;position: relative;}#sk-container-id-16 div.sk-item {position: relative;z-index: 1;}#sk-container-id-16 div.sk-parallel {display: flex;align-items: stretch;justify-content: center;background-color: white;position: relative;}#sk-container-id-16 div.sk-item::before, #sk-container-id-16 div.sk-parallel-item::before {content: \"\";position: absolute;border-left: 1px solid gray;box-sizing: border-box;top: 0;bottom: 0;left: 50%;z-index: -1;}#sk-container-id-16 div.sk-parallel-item {display: flex;flex-direction: column;z-index: 1;position: relative;background-color: white;}#sk-container-id-16 div.sk-parallel-item:first-child::after {align-self: flex-end;width: 50%;}#sk-container-id-16 div.sk-parallel-item:last-child::after {align-self: flex-start;width: 50%;}#sk-container-id-16 div.sk-parallel-item:only-child::after {width: 0;}#sk-container-id-16 div.sk-dashed-wrapped {border: 1px dashed gray;margin: 0 0.4em 0.5em 0.4em;box-sizing: border-box;padding-bottom: 0.4em;background-color: white;}#sk-container-id-16 div.sk-label label {font-family: monospace;font-weight: bold;display: inline-block;line-height: 1.2em;}#sk-container-id-16 div.sk-label-container {text-align: center;}#sk-container-id-16 div.sk-container {/* jupyter's `normalize.less` sets `[hidden] { display: none; }` but bootstrap.min.css set `[hidden] { display: none !important; }` so we also need the `!important` here to be able to override the default hidden behavior on the sphinx rendered scikit-learn.org. See: https://github.com/scikit-learn/scikit-learn/issues/21755 */display: inline-block !important;position: relative;}#sk-container-id-16 div.sk-text-repr-fallback {display: none;}</style><div id=\"sk-container-id-16\" class=\"sk-top-container\"><div class=\"sk-text-repr-fallback\"><pre>KMeans(n_clusters=4, random_state=42)</pre><b>In a Jupyter environment, please rerun this cell to show the HTML representation or trust the notebook. <br />On GitHub, the HTML representation is unable to render, please try loading this page with nbviewer.org.</b></div><div class=\"sk-container\" hidden><div class=\"sk-item\"><div class=\"sk-estimator sk-toggleable\"><input class=\"sk-toggleable__control sk-hidden--visually\" id=\"sk-estimator-id-34\" type=\"checkbox\" checked><label for=\"sk-estimator-id-34\" class=\"sk-toggleable__label sk-toggleable__label-arrow\">KMeans</label><div class=\"sk-toggleable__content\"><pre>KMeans(n_clusters=4, random_state=42)</pre></div></div></div></div></div>"
      ],
      "text/plain": [
       "KMeans(n_clusters=4, random_state=42)"
      ]
     },
     "execution_count": 122,
     "metadata": {},
     "output_type": "execute_result"
    },
    {
     "data": {
      "text/html": [
       "<style>#sk-container-id-17 {color: black;background-color: white;}#sk-container-id-17 pre{padding: 0;}#sk-container-id-17 div.sk-toggleable {background-color: white;}#sk-container-id-17 label.sk-toggleable__label {cursor: pointer;display: block;width: 100%;margin-bottom: 0;padding: 0.3em;box-sizing: border-box;text-align: center;}#sk-container-id-17 label.sk-toggleable__label-arrow:before {content: \"▸\";float: left;margin-right: 0.25em;color: #696969;}#sk-container-id-17 label.sk-toggleable__label-arrow:hover:before {color: black;}#sk-container-id-17 div.sk-estimator:hover label.sk-toggleable__label-arrow:before {color: black;}#sk-container-id-17 div.sk-toggleable__content {max-height: 0;max-width: 0;overflow: hidden;text-align: left;background-color: #f0f8ff;}#sk-container-id-17 div.sk-toggleable__content pre {margin: 0.2em;color: black;border-radius: 0.25em;background-color: #f0f8ff;}#sk-container-id-17 input.sk-toggleable__control:checked~div.sk-toggleable__content {max-height: 200px;max-width: 100%;overflow: auto;}#sk-container-id-17 input.sk-toggleable__control:checked~label.sk-toggleable__label-arrow:before {content: \"▾\";}#sk-container-id-17 div.sk-estimator input.sk-toggleable__control:checked~label.sk-toggleable__label {background-color: #d4ebff;}#sk-container-id-17 div.sk-label input.sk-toggleable__control:checked~label.sk-toggleable__label {background-color: #d4ebff;}#sk-container-id-17 input.sk-hidden--visually {border: 0;clip: rect(1px 1px 1px 1px);clip: rect(1px, 1px, 1px, 1px);height: 1px;margin: -1px;overflow: hidden;padding: 0;position: absolute;width: 1px;}#sk-container-id-17 div.sk-estimator {font-family: monospace;background-color: #f0f8ff;border: 1px dotted black;border-radius: 0.25em;box-sizing: border-box;margin-bottom: 0.5em;}#sk-container-id-17 div.sk-estimator:hover {background-color: #d4ebff;}#sk-container-id-17 div.sk-parallel-item::after {content: \"\";width: 100%;border-bottom: 1px solid gray;flex-grow: 1;}#sk-container-id-17 div.sk-label:hover label.sk-toggleable__label {background-color: #d4ebff;}#sk-container-id-17 div.sk-serial::before {content: \"\";position: absolute;border-left: 1px solid gray;box-sizing: border-box;top: 0;bottom: 0;left: 50%;z-index: 0;}#sk-container-id-17 div.sk-serial {display: flex;flex-direction: column;align-items: center;background-color: white;padding-right: 0.2em;padding-left: 0.2em;position: relative;}#sk-container-id-17 div.sk-item {position: relative;z-index: 1;}#sk-container-id-17 div.sk-parallel {display: flex;align-items: stretch;justify-content: center;background-color: white;position: relative;}#sk-container-id-17 div.sk-item::before, #sk-container-id-17 div.sk-parallel-item::before {content: \"\";position: absolute;border-left: 1px solid gray;box-sizing: border-box;top: 0;bottom: 0;left: 50%;z-index: -1;}#sk-container-id-17 div.sk-parallel-item {display: flex;flex-direction: column;z-index: 1;position: relative;background-color: white;}#sk-container-id-17 div.sk-parallel-item:first-child::after {align-self: flex-end;width: 50%;}#sk-container-id-17 div.sk-parallel-item:last-child::after {align-self: flex-start;width: 50%;}#sk-container-id-17 div.sk-parallel-item:only-child::after {width: 0;}#sk-container-id-17 div.sk-dashed-wrapped {border: 1px dashed gray;margin: 0 0.4em 0.5em 0.4em;box-sizing: border-box;padding-bottom: 0.4em;background-color: white;}#sk-container-id-17 div.sk-label label {font-family: monospace;font-weight: bold;display: inline-block;line-height: 1.2em;}#sk-container-id-17 div.sk-label-container {text-align: center;}#sk-container-id-17 div.sk-container {/* jupyter's `normalize.less` sets `[hidden] { display: none; }` but bootstrap.min.css set `[hidden] { display: none !important; }` so we also need the `!important` here to be able to override the default hidden behavior on the sphinx rendered scikit-learn.org. See: https://github.com/scikit-learn/scikit-learn/issues/21755 */display: inline-block !important;position: relative;}#sk-container-id-17 div.sk-text-repr-fallback {display: none;}</style><div id=\"sk-container-id-17\" class=\"sk-top-container\"><div class=\"sk-text-repr-fallback\"><pre>KMeans(n_clusters=5, random_state=42)</pre><b>In a Jupyter environment, please rerun this cell to show the HTML representation or trust the notebook. <br />On GitHub, the HTML representation is unable to render, please try loading this page with nbviewer.org.</b></div><div class=\"sk-container\" hidden><div class=\"sk-item\"><div class=\"sk-estimator sk-toggleable\"><input class=\"sk-toggleable__control sk-hidden--visually\" id=\"sk-estimator-id-35\" type=\"checkbox\" checked><label for=\"sk-estimator-id-35\" class=\"sk-toggleable__label sk-toggleable__label-arrow\">KMeans</label><div class=\"sk-toggleable__content\"><pre>KMeans(n_clusters=5, random_state=42)</pre></div></div></div></div></div>"
      ],
      "text/plain": [
       "KMeans(n_clusters=5, random_state=42)"
      ]
     },
     "execution_count": 122,
     "metadata": {},
     "output_type": "execute_result"
    },
    {
     "data": {
      "text/html": [
       "<style>#sk-container-id-18 {color: black;background-color: white;}#sk-container-id-18 pre{padding: 0;}#sk-container-id-18 div.sk-toggleable {background-color: white;}#sk-container-id-18 label.sk-toggleable__label {cursor: pointer;display: block;width: 100%;margin-bottom: 0;padding: 0.3em;box-sizing: border-box;text-align: center;}#sk-container-id-18 label.sk-toggleable__label-arrow:before {content: \"▸\";float: left;margin-right: 0.25em;color: #696969;}#sk-container-id-18 label.sk-toggleable__label-arrow:hover:before {color: black;}#sk-container-id-18 div.sk-estimator:hover label.sk-toggleable__label-arrow:before {color: black;}#sk-container-id-18 div.sk-toggleable__content {max-height: 0;max-width: 0;overflow: hidden;text-align: left;background-color: #f0f8ff;}#sk-container-id-18 div.sk-toggleable__content pre {margin: 0.2em;color: black;border-radius: 0.25em;background-color: #f0f8ff;}#sk-container-id-18 input.sk-toggleable__control:checked~div.sk-toggleable__content {max-height: 200px;max-width: 100%;overflow: auto;}#sk-container-id-18 input.sk-toggleable__control:checked~label.sk-toggleable__label-arrow:before {content: \"▾\";}#sk-container-id-18 div.sk-estimator input.sk-toggleable__control:checked~label.sk-toggleable__label {background-color: #d4ebff;}#sk-container-id-18 div.sk-label input.sk-toggleable__control:checked~label.sk-toggleable__label {background-color: #d4ebff;}#sk-container-id-18 input.sk-hidden--visually {border: 0;clip: rect(1px 1px 1px 1px);clip: rect(1px, 1px, 1px, 1px);height: 1px;margin: -1px;overflow: hidden;padding: 0;position: absolute;width: 1px;}#sk-container-id-18 div.sk-estimator {font-family: monospace;background-color: #f0f8ff;border: 1px dotted black;border-radius: 0.25em;box-sizing: border-box;margin-bottom: 0.5em;}#sk-container-id-18 div.sk-estimator:hover {background-color: #d4ebff;}#sk-container-id-18 div.sk-parallel-item::after {content: \"\";width: 100%;border-bottom: 1px solid gray;flex-grow: 1;}#sk-container-id-18 div.sk-label:hover label.sk-toggleable__label {background-color: #d4ebff;}#sk-container-id-18 div.sk-serial::before {content: \"\";position: absolute;border-left: 1px solid gray;box-sizing: border-box;top: 0;bottom: 0;left: 50%;z-index: 0;}#sk-container-id-18 div.sk-serial {display: flex;flex-direction: column;align-items: center;background-color: white;padding-right: 0.2em;padding-left: 0.2em;position: relative;}#sk-container-id-18 div.sk-item {position: relative;z-index: 1;}#sk-container-id-18 div.sk-parallel {display: flex;align-items: stretch;justify-content: center;background-color: white;position: relative;}#sk-container-id-18 div.sk-item::before, #sk-container-id-18 div.sk-parallel-item::before {content: \"\";position: absolute;border-left: 1px solid gray;box-sizing: border-box;top: 0;bottom: 0;left: 50%;z-index: -1;}#sk-container-id-18 div.sk-parallel-item {display: flex;flex-direction: column;z-index: 1;position: relative;background-color: white;}#sk-container-id-18 div.sk-parallel-item:first-child::after {align-self: flex-end;width: 50%;}#sk-container-id-18 div.sk-parallel-item:last-child::after {align-self: flex-start;width: 50%;}#sk-container-id-18 div.sk-parallel-item:only-child::after {width: 0;}#sk-container-id-18 div.sk-dashed-wrapped {border: 1px dashed gray;margin: 0 0.4em 0.5em 0.4em;box-sizing: border-box;padding-bottom: 0.4em;background-color: white;}#sk-container-id-18 div.sk-label label {font-family: monospace;font-weight: bold;display: inline-block;line-height: 1.2em;}#sk-container-id-18 div.sk-label-container {text-align: center;}#sk-container-id-18 div.sk-container {/* jupyter's `normalize.less` sets `[hidden] { display: none; }` but bootstrap.min.css set `[hidden] { display: none !important; }` so we also need the `!important` here to be able to override the default hidden behavior on the sphinx rendered scikit-learn.org. See: https://github.com/scikit-learn/scikit-learn/issues/21755 */display: inline-block !important;position: relative;}#sk-container-id-18 div.sk-text-repr-fallback {display: none;}</style><div id=\"sk-container-id-18\" class=\"sk-top-container\"><div class=\"sk-text-repr-fallback\"><pre>KMeans(n_clusters=5, random_state=42)</pre><b>In a Jupyter environment, please rerun this cell to show the HTML representation or trust the notebook. <br />On GitHub, the HTML representation is unable to render, please try loading this page with nbviewer.org.</b></div><div class=\"sk-container\" hidden><div class=\"sk-item\"><div class=\"sk-estimator sk-toggleable\"><input class=\"sk-toggleable__control sk-hidden--visually\" id=\"sk-estimator-id-36\" type=\"checkbox\" checked><label for=\"sk-estimator-id-36\" class=\"sk-toggleable__label sk-toggleable__label-arrow\">KMeans</label><div class=\"sk-toggleable__content\"><pre>KMeans(n_clusters=5, random_state=42)</pre></div></div></div></div></div>"
      ],
      "text/plain": [
       "KMeans(n_clusters=5, random_state=42)"
      ]
     },
     "execution_count": 122,
     "metadata": {},
     "output_type": "execute_result"
    },
    {
     "name": "stdout",
     "output_type": "stream",
     "text": [
      "                                            Document  Cluster\n",
      "0   @TheDemocrats Who the hell you trying to bull...        2\n",
      "1   @NEWSMAX Just bring back the Clydesdales RT @...        1\n",
      "2   @eclipsethis2003 Lying bitch @TheRickyDavila ...        3\n",
      "3   RT @brixwe: https://t.co/gtwqKXFajG RT @Makis...        1\n",
      "4   @ManhattanDA This marine did nothing wrong! T...        0\n",
      "5   @glennkirschner2 AMERICAN HERO! https://t.co/...        4\n",
      "6   @larryhuynh Yeah ok. Skippy @donwinslow @Sara...        0\n",
      "7   @GOPoversight @RepJamesComer @ChuckGrassley A...        0\n"
     ]
    },
    {
     "data": {
      "text/html": [
       "<div>\n",
       "<style scoped>\n",
       "    .dataframe tbody tr th:only-of-type {\n",
       "        vertical-align: middle;\n",
       "    }\n",
       "\n",
       "    .dataframe tbody tr th {\n",
       "        vertical-align: top;\n",
       "    }\n",
       "\n",
       "    .dataframe thead th {\n",
       "        text-align: right;\n",
       "    }\n",
       "</style>\n",
       "<table border=\"1\" class=\"dataframe\">\n",
       "  <thead>\n",
       "    <tr style=\"text-align: right;\">\n",
       "      <th></th>\n",
       "      <th>Document</th>\n",
       "      <th>Cluster</th>\n",
       "      <th>users</th>\n",
       "    </tr>\n",
       "  </thead>\n",
       "  <tbody>\n",
       "    <tr>\n",
       "      <th>0</th>\n",
       "      <td>@TheDemocrats Who the hell you trying to bull...</td>\n",
       "      <td>2</td>\n",
       "      <td>toast36884</td>\n",
       "    </tr>\n",
       "    <tr>\n",
       "      <th>1</th>\n",
       "      <td>@NEWSMAX Just bring back the Clydesdales RT @...</td>\n",
       "      <td>1</td>\n",
       "      <td>NancyFi61103202</td>\n",
       "    </tr>\n",
       "    <tr>\n",
       "      <th>2</th>\n",
       "      <td>@eclipsethis2003 Lying bitch @TheRickyDavila ...</td>\n",
       "      <td>3</td>\n",
       "      <td>Dana59226229</td>\n",
       "    </tr>\n",
       "    <tr>\n",
       "      <th>3</th>\n",
       "      <td>RT @brixwe: https://t.co/gtwqKXFajG RT @Makis...</td>\n",
       "      <td>1</td>\n",
       "      <td>Al1492</td>\n",
       "    </tr>\n",
       "    <tr>\n",
       "      <th>4</th>\n",
       "      <td>@ManhattanDA This marine did nothing wrong! T...</td>\n",
       "      <td>0</td>\n",
       "      <td>wi46180626</td>\n",
       "    </tr>\n",
       "  </tbody>\n",
       "</table>\n",
       "</div>"
      ],
      "text/plain": [
       "                                            Document  Cluster            users\n",
       "0   @TheDemocrats Who the hell you trying to bull...        2       toast36884\n",
       "1   @NEWSMAX Just bring back the Clydesdales RT @...        1  NancyFi61103202\n",
       "2   @eclipsethis2003 Lying bitch @TheRickyDavila ...        3     Dana59226229\n",
       "3   RT @brixwe: https://t.co/gtwqKXFajG RT @Makis...        1           Al1492\n",
       "4   @ManhattanDA This marine did nothing wrong! T...        0       wi46180626"
      ]
     },
     "execution_count": 122,
     "metadata": {},
     "output_type": "execute_result"
    }
   ],
   "source": [
    "import numpy as np\n",
    "import pandas as pd\n",
    "from sklearn.feature_extraction.text import TfidfVectorizer\n",
    "from sklearn.cluster import KMeans\n",
    "from sklearn.metrics import silhouette_score\n",
    "\n",
    "\n",
    "# all tweets of user is one document\n",
    "documents = user_tweets.values()\n",
    "\n",
    "\n",
    "# Preprocess the text\n",
    "def preprocess(text):\n",
    "    return text.lower()\n",
    "\n",
    "preprocessed_documents = [preprocess(doc) for doc in documents]\n",
    "\n",
    "\n",
    "# Extract features using TF-IDF\n",
    "vectorizer = TfidfVectorizer(stop_words='english')\n",
    "X = vectorizer.fit_transform(preprocessed_documents)\n",
    "\n",
    "#Note ensure that aleast 3 usersers are presnt in the list.\n",
    "# Determine the optimal number of clusters using silhouette score\n",
    "# vary the range if needed\n",
    "range_limit = min([6,len(documents)-1])\n",
    "n_clusters_range = range(2, range_limit)\n",
    "silhouette_scores = []\n",
    "\n",
    "for n_clusters in n_clusters_range:\n",
    "    kmeans = KMeans(n_clusters=n_clusters, init='k-means++', random_state=42)\n",
    "    kmeans.fit(X)\n",
    "    cluster_labels = kmeans.predict(X)\n",
    "    silhouette_scores.append(silhouette_score(X, cluster_labels))\n",
    "\n",
    "optimal_n_clusters = n_clusters_range[np.argmax(silhouette_scores)]\n",
    "\n",
    "# Perform K-means clustering\n",
    "kmeans = KMeans(n_clusters=optimal_n_clusters, init='k-means++', random_state=42)\n",
    "kmeans.fit(X)\n",
    "\n",
    "# Assign each document to a cluster\n",
    "document_clusters = kmeans.predict(X)\n",
    "\n",
    "# Display the results\n",
    "clustered_docs = pd.DataFrame({\"Document\": documents, \"Cluster\": document_clusters})\n",
    "print(clustered_docs)\n",
    "\n",
    "#user and values \n",
    "user_cluster = clustered_docs.copy().merge(pd.DataFrame(user_tweets.keys(), columns = ['users']), left_index = True, right_index = True)\n",
    "\n",
    "\n",
    "user_cluster.head()"
   ]
  },
  {
   "cell_type": "markdown",
   "metadata": {},
   "source": [
    "**Clustering Visualizations-2D**"
   ]
  },
  {
   "cell_type": "code",
   "execution_count": 62,
   "metadata": {},
   "outputs": [
    {
     "name": "stdout",
     "output_type": "stream",
     "text": [
      "[[ 123.75301    -10.287419 ]\n",
      " [   7.462699     0.7615902]\n",
      " [ -44.77988   -121.17684  ]\n",
      " [  -2.5326068   49.730328 ]\n",
      " [  67.53138    -46.53923  ]\n",
      " [  64.44503   -134.08543  ]\n",
      " [   7.668983   -64.73926  ]\n",
      " [ -48.53741    -42.415096 ]]\n"
     ]
    },
    {
     "name": "stderr",
     "output_type": "stream",
     "text": [
      "/Library/Frameworks/Python.framework/Versions/3.10/lib/python3.10/site-packages/sklearn/manifold/_t_sne.py:800: FutureWarning: The default initialization in TSNE will change from 'random' to 'pca' in 1.2.\n",
      "  warnings.warn(\n",
      "/Library/Frameworks/Python.framework/Versions/3.10/lib/python3.10/site-packages/sklearn/manifold/_t_sne.py:810: FutureWarning: The default learning rate in TSNE will change from 200.0 to 'auto' in 1.2.\n",
      "  warnings.warn(\n"
     ]
    },
    {
     "data": {
      "text/plain": [
       "<Figure size 800x600 with 0 Axes>"
      ]
     },
     "execution_count": 62,
     "metadata": {},
     "output_type": "execute_result"
    },
    {
     "data": {
      "text/plain": [
       "<matplotlib.collections.PathCollection at 0x282322d40>"
      ]
     },
     "execution_count": 62,
     "metadata": {},
     "output_type": "execute_result"
    },
    {
     "data": {
      "text/plain": [
       "Text(123.75301, -10.287419, 'toast36884')"
      ]
     },
     "execution_count": 62,
     "metadata": {},
     "output_type": "execute_result"
    },
    {
     "data": {
      "text/plain": [
       "<matplotlib.collections.PathCollection at 0x2822ac130>"
      ]
     },
     "execution_count": 62,
     "metadata": {},
     "output_type": "execute_result"
    },
    {
     "data": {
      "text/plain": [
       "Text(7.462699, 0.7615902, 'NancyFi61103202')"
      ]
     },
     "execution_count": 62,
     "metadata": {},
     "output_type": "execute_result"
    },
    {
     "data": {
      "text/plain": [
       "<matplotlib.collections.PathCollection at 0x2822ad360>"
      ]
     },
     "execution_count": 62,
     "metadata": {},
     "output_type": "execute_result"
    },
    {
     "data": {
      "text/plain": [
       "Text(-44.77988, -121.17684, 'Dana59226229')"
      ]
     },
     "execution_count": 62,
     "metadata": {},
     "output_type": "execute_result"
    },
    {
     "data": {
      "text/plain": [
       "<matplotlib.collections.PathCollection at 0x2822acc40>"
      ]
     },
     "execution_count": 62,
     "metadata": {},
     "output_type": "execute_result"
    },
    {
     "data": {
      "text/plain": [
       "Text(-2.5326068, 49.730328, 'Al1492')"
      ]
     },
     "execution_count": 62,
     "metadata": {},
     "output_type": "execute_result"
    },
    {
     "data": {
      "text/plain": [
       "<matplotlib.collections.PathCollection at 0x2822af550>"
      ]
     },
     "execution_count": 62,
     "metadata": {},
     "output_type": "execute_result"
    },
    {
     "data": {
      "text/plain": [
       "Text(67.53138, -46.53923, 'wi46180626')"
      ]
     },
     "execution_count": 62,
     "metadata": {},
     "output_type": "execute_result"
    },
    {
     "data": {
      "text/plain": [
       "<matplotlib.collections.PathCollection at 0x2822ac9a0>"
      ]
     },
     "execution_count": 62,
     "metadata": {},
     "output_type": "execute_result"
    },
    {
     "data": {
      "text/plain": [
       "Text(64.44503, -134.08543, 'maudrit')"
      ]
     },
     "execution_count": 62,
     "metadata": {},
     "output_type": "execute_result"
    },
    {
     "data": {
      "text/plain": [
       "<matplotlib.collections.PathCollection at 0x2822afca0>"
      ]
     },
     "execution_count": 62,
     "metadata": {},
     "output_type": "execute_result"
    },
    {
     "data": {
      "text/plain": [
       "Text(7.668983, -64.73926, 'Retiredaf3')"
      ]
     },
     "execution_count": 62,
     "metadata": {},
     "output_type": "execute_result"
    },
    {
     "data": {
      "text/plain": [
       "<matplotlib.collections.PathCollection at 0x2822e44c0>"
      ]
     },
     "execution_count": 62,
     "metadata": {},
     "output_type": "execute_result"
    },
    {
     "data": {
      "text/plain": [
       "Text(-48.53741, -42.415096, 'RayAnde34649425')"
      ]
     },
     "execution_count": 62,
     "metadata": {},
     "output_type": "execute_result"
    },
    {
     "data": {
      "text/plain": [
       "Text(0.5, 1.0, 'K-means  Clustering')"
      ]
     },
     "execution_count": 62,
     "metadata": {},
     "output_type": "execute_result"
    },
    {
     "data": {
      "text/plain": [
       "Text(0.5, 0, 't-SNE Dimension 1')"
      ]
     },
     "execution_count": 62,
     "metadata": {},
     "output_type": "execute_result"
    },
    {
     "data": {
      "text/plain": [
       "Text(0, 0.5, 't-SNE Dimension 2')"
      ]
     },
     "execution_count": 62,
     "metadata": {},
     "output_type": "execute_result"
    },
    {
     "data": {
      "image/png": "[encoded data removed]",
      "text/plain": [
       "<Figure size 800x600 with 1 Axes>"
      ]
     },
     "metadata": {},
     "output_type": "display_data"
    }
   ],
   "source": [
    "import numpy as np\n",
    "import pandas as pd\n",
    "import matplotlib.pyplot as plt\n",
    "from sklearn.feature_extraction.text import TfidfVectorizer\n",
    "from sklearn.cluster import KMeans\n",
    "from sklearn.metrics import silhouette_score\n",
    "from sklearn.manifold import TSNE\n",
    "\n",
    "# (Same dataset and preprocess function as before)\n",
    "\n",
    "\n",
    "# (Same clustering code as before)\n",
    "\n",
    "# Perform dimensionality reduction using t-SNE\n",
    "#scalar\n",
    "perplexity_val = min([5,len(documents)-1])\n",
    "tsne = TSNE(n_components=2, perplexity=perplexity_val, random_state=42)\n",
    "X_2d = tsne.fit_transform(X.toarray())\n",
    "\n",
    "print(X_2d)\n",
    "\n",
    "# Plot the clusters\n",
    "plt.figure(figsize=(8, 6))\n",
    "colors = ['b', 'g', 'r', 'c', 'm', 'y', 'k']\n",
    "markers = ['o', 'v', '^', '<', '>', 's', 'p']\n",
    "\n",
    "for i in range(len(X_2d)):\n",
    "    plt.scatter(X_2d[i, 0], X_2d[i, 1], s=100, c=colors[document_clusters[i]], marker=markers[document_clusters[i]])\n",
    "    plt.text(X_2d[i, 0], X_2d[i, 1], unique_users[i], fontsize=12)\n",
    "\n",
    "plt.title('K-means  Clustering')\n",
    "plt.xlabel('t-SNE Dimension 1')\n",
    "plt.ylabel('t-SNE Dimension 2')\n",
    "plt.show()\n"
   ]
  },
  {
   "cell_type": "markdown",
   "metadata": {},
   "source": [
    "**Clustering Visualizations-3D**"
   ]
  },
  {
   "cell_type": "code",
   "execution_count": 63,
   "metadata": {},
   "outputs": [
    {
     "name": "stderr",
     "output_type": "stream",
     "text": [
      "/Library/Frameworks/Python.framework/Versions/3.10/lib/python3.10/site-packages/sklearn/manifold/_t_sne.py:800: FutureWarning: The default initialization in TSNE will change from 'random' to 'pca' in 1.2.\n",
      "  warnings.warn(\n",
      "/Library/Frameworks/Python.framework/Versions/3.10/lib/python3.10/site-packages/sklearn/manifold/_t_sne.py:810: FutureWarning: The default learning rate in TSNE will change from 200.0 to 'auto' in 1.2.\n",
      "  warnings.warn(\n"
     ]
    },
    {
     "data": {
      "text/plain": [
       "<mpl_toolkits.mplot3d.art3d.Path3DCollection at 0x10f700be0>"
      ]
     },
     "execution_count": 63,
     "metadata": {},
     "output_type": "execute_result"
    },
    {
     "data": {
      "text/plain": [
       "Text(-144.93188, 186.75844, 'toast36884')"
      ]
     },
     "execution_count": 63,
     "metadata": {},
     "output_type": "execute_result"
    },
    {
     "data": {
      "text/plain": [
       "<mpl_toolkits.mplot3d.art3d.Path3DCollection at 0x10f702ad0>"
      ]
     },
     "execution_count": 63,
     "metadata": {},
     "output_type": "execute_result"
    },
    {
     "data": {
      "text/plain": [
       "Text(68.590904, -133.93262, 'NancyFi61103202')"
      ]
     },
     "execution_count": 63,
     "metadata": {},
     "output_type": "execute_result"
    },
    {
     "data": {
      "text/plain": [
       "<mpl_toolkits.mplot3d.art3d.Path3DCollection at 0x10f701720>"
      ]
     },
     "execution_count": 63,
     "metadata": {},
     "output_type": "execute_result"
    },
    {
     "data": {
      "text/plain": [
       "Text(-13.073225, 219.36607, 'Dana59226229')"
      ]
     },
     "execution_count": 63,
     "metadata": {},
     "output_type": "execute_result"
    },
    {
     "data": {
      "text/plain": [
       "<mpl_toolkits.mplot3d.art3d.Path3DCollection at 0x10f7018a0>"
      ]
     },
     "execution_count": 63,
     "metadata": {},
     "output_type": "execute_result"
    },
    {
     "data": {
      "text/plain": [
       "Text(-158.01703, -114.49514, 'Al1492')"
      ]
     },
     "execution_count": 63,
     "metadata": {},
     "output_type": "execute_result"
    },
    {
     "data": {
      "text/plain": [
       "<mpl_toolkits.mplot3d.art3d.Path3DCollection at 0x10f62c9d0>"
      ]
     },
     "execution_count": 63,
     "metadata": {},
     "output_type": "execute_result"
    },
    {
     "data": {
      "text/plain": [
       "Text(160.97557, 169.77995, 'wi46180626')"
      ]
     },
     "execution_count": 63,
     "metadata": {},
     "output_type": "execute_result"
    },
    {
     "data": {
      "text/plain": [
       "<mpl_toolkits.mplot3d.art3d.Path3DCollection at 0x10f62dc90>"
      ]
     },
     "execution_count": 63,
     "metadata": {},
     "output_type": "execute_result"
    },
    {
     "data": {
      "text/plain": [
       "Text(-81.789795, 15.813759, 'maudrit')"
      ]
     },
     "execution_count": 63,
     "metadata": {},
     "output_type": "execute_result"
    },
    {
     "data": {
      "text/plain": [
       "<mpl_toolkits.mplot3d.art3d.Path3DCollection at 0x10f62f4f0>"
      ]
     },
     "execution_count": 63,
     "metadata": {},
     "output_type": "execute_result"
    },
    {
     "data": {
      "text/plain": [
       "Text(282.18134, 21.685421, 'Retiredaf3')"
      ]
     },
     "execution_count": 63,
     "metadata": {},
     "output_type": "execute_result"
    },
    {
     "data": {
      "text/plain": [
       "<mpl_toolkits.mplot3d.art3d.Path3DCollection at 0x10f62f430>"
      ]
     },
     "execution_count": 63,
     "metadata": {},
     "output_type": "execute_result"
    },
    {
     "data": {
      "text/plain": [
       "Text(46.743755, -124.09233, 'RayAnde34649425')"
      ]
     },
     "execution_count": 63,
     "metadata": {},
     "output_type": "execute_result"
    },
    {
     "data": {
      "text/plain": [
       "Text(0.5, 0.92, 'K-means Clustering')"
      ]
     },
     "execution_count": 63,
     "metadata": {},
     "output_type": "execute_result"
    },
    {
     "data": {
      "text/plain": [
       "Text(0.5, 0, 't-SNE Dimension 1')"
      ]
     },
     "execution_count": 63,
     "metadata": {},
     "output_type": "execute_result"
    },
    {
     "data": {
      "text/plain": [
       "Text(0.5, 0.5, 't-SNE Dimension 2')"
      ]
     },
     "execution_count": 63,
     "metadata": {},
     "output_type": "execute_result"
    },
    {
     "data": {
      "text/plain": [
       "Text(0.5, 0, 't-SNE Dimension 3')"
      ]
     },
     "execution_count": 63,
     "metadata": {},
     "output_type": "execute_result"
    },
    {
     "data": {
      "image/png": "[encoded data removed]",
      "text/plain": [
       "<Figure size 800x600 with 1 Axes>"
      ]
     },
     "metadata": {},
     "output_type": "display_data"
    }
   ],
   "source": [
    "import numpy as np\n",
    "import pandas as pd\n",
    "import matplotlib.pyplot as plt\n",
    "from mpl_toolkits.mplot3d import Axes3D\n",
    "from sklearn.feature_extraction.text import TfidfVectorizer\n",
    "from sklearn.cluster import KMeans\n",
    "from sklearn.metrics import silhouette_score\n",
    "from sklearn.manifold import TSNE\n",
    "\n",
    "\n",
    "# (Same dataset, preprocess function, feature extraction, and clustering code as before)\n",
    "\n",
    "# Perform dimensionality reduction using t-SNE\n",
    "perplexity_val = min([5,len(documents)-1])\n",
    "tsne = TSNE(n_components=3, perplexity=perplexity_val, random_state=42)\n",
    "X_3d = tsne.fit_transform(X.toarray())\n",
    "\n",
    "# Plot the clusters in 3D\n",
    "fig = plt.figure(figsize=(8, 6))\n",
    "ax = fig.add_subplot(111, projection='3d')\n",
    "\n",
    "colors = ['b', 'g', 'r', 'c', 'm', 'y', 'k']\n",
    "markers = ['o', 'v', '^', '<', '>', 's', 'p']\n",
    "\n",
    "for i in range(len(X_3d)):\n",
    "    ax.scatter(X_3d[i, 0], X_3d[i, 1], X_3d[i, 2], s=100, c=colors[document_clusters[i]], marker=markers[document_clusters[i]])\n",
    "    ax.text(X_3d[i, 0], X_3d[i, 1], X_3d[i, 2], unique_users[i], fontsize=12)\n",
    "\n",
    "ax.set_title('K-means Clustering')\n",
    "ax.set_xlabel('t-SNE Dimension 1')\n",
    "ax.set_ylabel('t-SNE Dimension 2')\n",
    "ax.set_zlabel('t-SNE Dimension 3')\n",
    "plt.show()\n"
   ]
  },
  {
   "cell_type": "markdown",
   "metadata": {},
   "source": [
    "**Listing all token words**"
   ]
  },
  {
   "cell_type": "code",
   "execution_count": 75,
   "metadata": {},
   "outputs": [
    {
     "name": "stdout",
     "output_type": "stream",
     "text": [
      "8\n",
      "['00' '000' '000ft' ... 'zzrmqtpqfk' 'zzyfnac0sl' 'zzzzzzzz']\n"
     ]
    }
   ],
   "source": [
    "print(len(X.toarray()))\n",
    "temp = X.toarray()\n",
    "print(vectorizer.get_feature_names_out())\n",
    "allW = vectorizer.get_feature_names_out()\n",
    "words =[ ] \n",
    "\n",
    "\n",
    "#print(words)"
   ]
  },
  {
   "cell_type": "code",
   "execution_count": 76,
   "metadata": {},
   "outputs": [],
   "source": [
    "usr = list(unique_users)\n",
    "def get_keywords_of_cluster(cluster, vect_x) :\n",
    "    sets = []\n",
    "    for c in cluster :\n",
    "        indx = usr.index(c)\n",
    "        x2 = x_[indx]\n",
    "        avg = sum(x2)/float(len(x2))\n",
    "        l = list()\n",
    "        for i in range(len(x2)) :\n",
    "            if x2[i] > avg :\n",
    "                l.append(allW[i])\n",
    "        sets.append(set(l))\n",
    "    s = sets[0]\n",
    "    for i in range(1,len(sets)):\n",
    "        s = s.intersection(sets[i])\n",
    "    return s"
   ]
  },
  {
   "cell_type": "code",
   "execution_count": 77,
   "metadata": {},
   "outputs": [],
   "source": [
    "#convert matrix\n",
    "x_ = X.toarray()"
   ]
  },
  {
   "cell_type": "markdown",
   "metadata": {},
   "source": [
    "**Identifying commmon tokens in the clusters**"
   ]
  },
  {
   "cell_type": "code",
   "execution_count": 79,
   "metadata": {},
   "outputs": [
    {
     "name": "stdout",
     "output_type": "stream",
     "text": [
      "0 {'good', 'leave', 'away', 'hey', 'kamalaharris', 'city', 'police', 'expect', 'care', 'proud', 'notice', 'repadamschiff', 'nytimes', 'watch', 'chrisdjackson', 'news', 'china', 'parents', 'job', 'lies', 'red', 'republicans', 'children', 'speakerpelosi', 'vote', 'party', 'second', 'man', 'thing', 'shut', 'going', 'virus', 'lost', 'mental', 'wife', 'look', 'women', 'killing', 'guns', 'racist', 'crap', 'cnn', 'days', 'power', 'means', 'brain', 'fault', 'loser', 'word', 'kids', 'corrupt', 'ones', 'run', 'baby', 'just', 'buy', 'hide', 'countries', 'impeach', 'giving', 'happened', 'moron', 'case', 'accountable', 'coming', 'hit', 'half', 'drug', 'ukraine', 'trying', 'hurt', 'gas', 'worst', 'arrested', 'answer', 'end', 'act', 'need', 'american', 'sad', 'change', 'win', 'far', 'safe', 'prices', 'looked', 'll', 'reasons', 'died', 'break', 'close', 'https', 'think', 'court', 'doctor', 'making', 'work', 'dbongino', 'thedemocrats', 'money', 'following', 'black', 'terrible', 'christian', 'day', 'trump', 'came', 'loves', 'sucked', 'guy', 'everyday', 'leaders', 'pushing', 'feel', 'use', 'happen', 'mattwalshblog', 'taught', 'men', 'did', 'times', 'ewarren', 'matter', 'chinese', 'crime', 'knows', 'punk', 'fox', 'fair', 'dumb', 'walk', 'needs', 'jim', 'people', 'game', 'foxnews', 'state', 'fight', 'don', 'brotherjones_', 'screw', 'pass', 'hate', 'charged', 'potus', 'white', 'called', 'kind', 'won', 'having', 'crimes', 'worse', 'best', 'doesn', 'whitehouse', 'mind', 'seen', 'criminal', 'lie', 'telling', 'male', 'repswalwell', 'military', 'line', 'comes', 'didn', 'shot', 'trans', 'woman', 'cheat', 'chicago', 'senschumer', 'supreme', 'running', 'held', 'believe', 'yes', 'house', 'make', 'voting', 'border', 'calling', 'wants', 'female', 'person', 'way', 'company', 'come', 'play', 'wonder', 'stop', 'head', 'victim', 'eat', 'talking', 'joe', 'stay', 'rights', 'shit', 'really', 'saying', 'sure', 'million', 'workers', 'fact', 'wake', 'post', 'sick', 'hurts', 'beat', 'easy', 'heart', 'time', 'control', 'christians', 'chance', 'live', 'mean', 'dollars', 'says', 'bad', 'god', 'vaccine', 'read', 'raise', 'leader', 'vp', 'like', 'long', 'help', 'night', 'school', 'allowed', 'coribush', 'new', 'gop', 'maybe', 'place', 'using', 'government', 'aoc', 'rid', 'sheep', 'left', 'lives', 'true', 'let', 'child', 'joke', 'tells', 'guilty', 'know', 'lose', 'presssec', 'ok', 'pervert', 'years', 'hell', 'unless', 'doing', 'tell', 'talk', 'liar', 'laws', 'amyklobuchar', 'dressed', 'girl', 'committed', 'right', 'wrong', 'sound', 'charge', 'listen', 'spy', 'getting', 'tuckercarlson', 'screwed', 'push', 'idea', 'makes', 'old', 'destroyed', 'son', 'truth', 'problem', 'suck', 'heard', 'lady', 'biden', 'poor', 'bragg', 'agree', 'liars', 'sounds', 'say', 'hard', 'worry', 'blame', 'got', 'said', 'jail', 'looks', 'turn', 'crazy', 'votes', 'govwhitmer', 'today', 'pretty', 'killed', 'lying', 'guys', 'deal', 'cops', 'big', 'political', 'taking', 'bet', 'pay', 'year', 'repjeffries', 'hope', 'aren', 'asked', 'liberal', 'law', 'list', 'rate', 'try', 'country', 'prison', 'florida', 'fake', 'sports', 'plus', 'republican', 'world', 'cop', 'girls', 'enforce', 'book', 'thinks', 'letting', 'calltoactivism', 'da', 'want', 'important', 'lot', 'better', 'babies', 'hillaryclinton', 'tax', 'secretarypete', 'different', 'land', 'schools', 'stuff', 'great', 'life', 'msnbc', 'clowns', 'little', 'does', 'election', 'smart', 'joebiden', 'basement'}\n",
      "\n",
      "\n",
      "\n",
      "1 {'good', 'governor', 'meant', 'pure', 'leave', 'citizenfreepres', 'pipelines', 'hey', 'warclandestine', 'useless', 'away', 'business', 'airspace', 'remember', 'democrat', 'press', 'send', 'police', 'city', 'maxed', 'officials', 'york', 'fourth', 'doubt', 'clear', 'care', 'proud', 'suggests', 'went', 'ed', 'led', 'nytimes', 'repadamschiff', 'gonna', 'enemy', 'capitol', 'insane', 'follow', 'sham', 'bennyjohnson', 'missing', 'watch', 'hands', 'clean', 'objects', 'passed', 'tweet', 'news', 'china', 'bought', '14', 'thought', 'federal', 'funds', 'job', 'burns', 'husband', 'outright', 'lies', 'chemical', 'red', 'national', 'thousands', 'apparently', 'forbes', 'racism', 'states', 'dod', 'story', 'republicans', 'children', 'vote', 'beard_vet', 'cult', 'party', 'inflation', 'second', 'fraud', 'ban', 'balloons', 'human', 'man', 'social', 'breitbartnews', 'thing', 'cities', 'shut', 'reveal', 'campaign', 'intel', 'hero', 'exactly', 'wind', 'going', 'repandybiggsaz', 'dutch', 'ballots', 'lost', 'skyrocketing', 'mental', 'women', 'needed', 'families', 'look', 'guns', 'racist', 'newsmax', 'crap', 'cnn', 'washington', 'wtf', 'pandemic', 'days', 'gatewaypundit', 'funding', 'medicare', 'exclusive', 'power', 'means', 'fault', 'investigation', 'loser', 'mmpadellan', 'mark', 'protection', 'infection', 'cash', 'slaves', 'cia', 'jacob', 'week', 'kids', 'corrupt', 'patriots', 'possibly', 'greg_price11', 'pilots', 'speak', '80', 'run', 'shows', '18', 'marxist', 'judge', 'baby', 'kanekoathegreat', 'lavern_spicer', 'just', 'buy', 'disaster', 'nfl', 'grocery', 'lindyli', 'lawyer', 'idiot', 'queen', 'countries', 'krassenstein', 'cost', 'giving', 'happened', 'unarmed', 'disney', 'walking', 'case', 'connected', 'start', 'aid', 'earth', 'elonmusk', 'pfizer', 'garbage', 'therichfromcali', 'speaking', 'woke', 'official', 'soon', 'acting', 'conservatives', 'illegal', 'british', 'documented', 'flashback', 'coming', 'planned', 'haven', 'wearing', 'spent', 'corruption', 'hole', 'available', 'half', 'ukraine', 'private', 'happy', 'started', 'clownworld_', 'removed', 'dog', 'points', 'al', 'loan', 'trying', 'told', 'facts', 'hamlin', 'thank', 'prove', 'gas', 'shoot', 'real', 'worst', 'houses', 'recruitment', 'newsom', 'rise', 'homes', 'term', 'dems', 'proven', 'banned', 'sex', 'thousand', 'west', 'california', 'weeks', 'end', 'act', 'need', 'alien', 'blinken', 'self', 'steveth75737857', 'american', 'damar', 'showing', 'parent', 'catturd2', 'teachers', 'morning', 'change', 'far', 'loved', 'created', 'prices', 'yesterday', 'evidence', 'caused', 'delivered', 'lied', 'busted', 'll', 'color', 'sunday', 'mexican', '34', 'break', 'fbi', 'close', 'https', 'zero', 'serve', 'source', 'buttigieg', 'fast', 'court', 'think', 'laundering', 'making', 'typical', 'wallstreetsilv', 'work', 'thedemocrats', 'money', 'toxic', 'black', 'finally', 'christian', 'day', 'course', 'trump', 'censor', 'wait', 'bidenworstpresidentever', 'j6', 'came', 'planning', 'townhallcom', 'identity', 'friend', 'legal', 'turned', 'records', 'arizona', 'attorney', 'guy', 'vigilantfox', '150', 'president', 'catholics', 'politico', 'tedlieu', 'dies', 'truly', 'invaded', 'pin', 'disgrace', 'south', 'dashdobrofsky', 'feel', 'use', 'tired', 'agents', 'support', 'happen', 'victorshi2020', 'later', 'changed', '13', 'men', 'journalists', 'did', 'mattis', 'buying', 'doctors', '2020', 'based', 'limit', 'times', 'ag', '12', 'charging', 'congress', 'alx', 'jewish', 'chinese', 'diversity', 'crime', 'scheme', 'biological', 'policies', 'decisions', 'thanks', 'knows', 'incompetent', 'career', 'bills', 'nearly', 'members', 'stocks', 'cartels', 'michelle', 'historic', 'single', 'citizens', 'higher', 'fox', 'war', 'dumb', 'data', 'ericareport', 'twitter', 'needs', 'stock', 'riley_gaines_', 'department', 'documents', '21', '2016', 'wing', 'people', 'dude', 'destroy', 'foxnews', 'report', 'game', 'state', 'history', 'classified', 'justice', 'fight', 'don', 'media', 'stupid', 'forget', 'sebgorka', 'administration', 'navy', 'dictator', 'hodgetwins', 'evil', 'richardgrenell', 'cause', 'hate', 'hiding', 'action', 'rich', 'cloud', 'completely', 'potus', 'white', 'bribery', 'sign', 'senate', 'covid', 'called', 'kind', 'th', 'won', 'having', 'crimes', 'egg', 'instead', 'jordan', 'worse', 'best', 'store', 'watched', 'adamkinzinger', 'purchased', 'doesn', 'twice', 'john', 'damn', 'transition', 'cut', 'wow', 'charliekirk11', 'face', 'treatment', 'taxpayer', 'mind', 'seen', 'playing', 'schwab', 'lie', 'telling', 'central', 'vindman', 'speech', 'wrote', 'short', 'keeps', 'rig', 'deficit', '23', 'recession', 'fund', 'repswalwell', 'sotu', 'email', 'mentally', 'energy', 'republic', 'tucker', 'linked', 'home', 'center', 'military', 'thrown', 'update', 'spot', 'pockets', 'gun', 'reagan', '2021', 'comes', 'ohio', 'dead', 'fed', 'didn', 'sleep', 'kill', 'shot', 'treason', 'vile', 'censorship', 'trans', 'woman', 'gender', 'putting', 'stories', 'cheat', 'donald', 'selling', 'chicago', 'deaths', 'paul', 'xi', '2017', 'supreme', 'known', 'oil', 'shooting', 'believe', 'yes', 'funny', 'spying', 'mother', '1nicdar', 'house', 'stole', 'carlson', 'pole', 'indoctrination', 'palestine', 'violent', 'make', 'voting', 'heartbreaking', 'cares', 'anthem', 'border', 'industry', 'knew', 'images', 'calling', 'wants', 'robreiner', 'violence', 'ordered', 'person', 'fired', 'way', 'company', 'come', 'chicken', 'shown', 'elected', 'yo', 'deep', 'wondering', 'whistleblower', 'poll', 'insurrection', 'wonder', 'chuckcallesto', 'letter', 'trust', 'county', 'creepy', '20', 'european', 'tech', '2022', 'engaged', 'stop', 'facebook', 'victim', 'board', 'nypost', 'pathetic', 'group', 'panic', 'photo', 'train', '800', 'helping', 'rihanna', 'james', 'talking', 'joe', 'stay', 'non', 'stage', 'clown', 'claimed', 'used', 'americans', 'really', 'actors', 'kennedy', 'clip', 'saying', 'sure', 'car', 'point', 'million', 'rob', 'post', 'wake', 'sick', 'announces', 'heart', 'rep', 'time', 'davidhogg111', 'idiots', 'flying', 'office', '51', 'showed', 'control', 'texas', '31', 'helped', 'zelensky', 'definitely', 'supporting', 'protect', 'live', 'forced', 'mean', 'dollars', 'past', 'unfortunately', 'endwokeness', 'blue', 'says', 'united', 'mandates', 'class', 'plan', 'bad', 'forum', 'god', 'admin', 'elon', 'health', 'viewers', 'millions', 'oh', 'enjoy', 'sued', 'equity', 'billions', 'taken', 'afford', 'terrorist', 'george', 'especially', 'raise', 'failed', 'vp', 'norfolk', 'like', 'stormy', 'union', 'appears', 'long', 'mulvaney', 'iheartmindy', 'help', 'disgusting', 'decision', 'domestic', 'cuts', 'derailment', 'night', 'immunity', 'officers', 'natural', 'russia', 'school', 'breaking', 'lol', 'pos', 'democracy', 'dozen', 'mothers', 'dr', 'security', 'new', 'hire', 'transgender', 'robert', 'food', 'gop', '16', 'friends', 'breaks', 'force', 'lived', 'holy', 'place', '25', '000', 'using', 'government', 'asshole', 'weak', 'mirandadevine', 'aoc', 'rbreich', 'rid', 'emeraldrobinson', 'intelligence', 'invasion', 'core', 'constitutional', 'kept', 'companies', 'left', 'love', 'starting', '40', 'true', 'burning', 'witness', 'let', 'child', 'chansley', 'murder', 'jojofromjerz', 'joke', 'ccp', 'watching', 'number', 'traitor', 'politicians', 'paid', 'value', 'arresting', 'refused', 'zelenskyyua', 'amuse', 'flag', 'know', 'water', 'rt', 'trillion', 'race', 'happening', 'lose', 'door', 'cdc', 'dictators', 'visited', 'hand', 'goes', 'dad', 'current', 'family', 'ok', 'ame', 'statement', 'hell', 'presssec', 'hear', 'inept', 'years', 'edkrassen', 'defense', 'doing', 'tell', 'dc_draino', 'murdered', 'talk', 'basically', 'hasn', 'daniels', 'liar', 'corporate', 'supposed', 'months', 'january', 'issues', 'inclusion', 'green', 'committed', 'laptop', 'farmers', 'right', 'wrong', 'socialist', 'services', 'tv', 'congressional', 'nuclear', 'losing', 'charge', 'calls', 'spy', 'claims', 'caught', 'millionaire', 'met', 'carolina', 'getting', 'weather', 'ap', 'create', 'performance', 'tuckercarlson', 'crock', 'omg', 'jackposobiec', 'community', 'visit', 'jones', 'makes', 'steal', '7th', 'owns', 'old', 'silenced', 'son', 'destroyed', 'truth', 'nathaliejacoby1', 'alvin', 'impeached', 'communist', 'gone', 'economy', 'disorder', 'jebrafaushay', 'estate', 'problem', 'hunter', 'stillgray', 'transportation', 'liberalism', 'actbrigitte', 'healthbyjames', 'actually', 'guess', 'heard', 'emails', 'question', 'peaceful', 'biden', '6th', 'illegally', 'sent', 'canada', 'economic', 'bragg', 'agree', 'claytravis', 'migrants', 've', 'reports', 'criminals', 'combat', '50', 'filled', 'biggest', 'immeme0', 'stkirsch', 'say', 'hard', 'saved', 'rncresearch', 'die', 'attack', 'ago', 'doj', 'jobs', 'wef', 'cars', 'dollar', 'laurenboebert', 'democrats', 'got', 'star', 'rigged', 'increase', 'slams', 'closed', 'nation', 'said', 'walker', 'http', 'jail', 'scandal', 'pelosi', 'couldn', 'looks', 'broke', 'chaos', 'probably', 'athletes', 'crazy', 'ukrainian', 'track', 'fought', 'currently', 'waiting', 'yeah', 'dc', 'vacation', 'looking', 'gunthereagleman', 'today', 'balloon', 'pensions', 'killed', 'lying', 'chemicals', 'atensnut', 'paying', 'admits', 'nope', 'manifesto', 'detailing', 'bs', 'trial', 'sorry', 'organization', 'lawsuit', 'regime', 'deal', 'cops', 'belong', 'sending', 'az_brittney', 'big', 'fa', 'political', 'southern', 'beach', 'high', 'thread', 'taking', 'oath', 'east', '24', 'took', 'amp', 'spewing', 'pay', 'received', 'lunatic', 'heyitsmecarolyn', 'year', 'repjeffries', 'welcome', 'secretary', 'aren', 'foreign', '65', 'irs', 'mrandyngo', 'mayraflores2022', 'wasn', 'liberal', 'law', 'upset', '30', 'list', 'fat', 'audit', 'crossed', 'try', 'country', 'johnrich', 'extreme', 'prison', 'florida', 'saw', 'colleges', 'hiring', 'catholic', 'crisis', 'sports', 'dylan', 'late', 'abc', 'massive', 'open', 'ideology', 'world', 'gets', 'clinton', 'afghanistan', 'climate', 'america', 'book', 'kidding', 'thinks', 'kamala', 'debt', 'oann', 'bank', 'tuesday', 'message', 'drag', 'owned', 'mask', 'filed', 'obama', 'calltoactivism', 'want', 'projectlincoln', 'stand', 'dying', 'wages', 'alaska', 'charges', 'yep', 'free', 'voted', 'billion', 'isn', 'lot', 'better', 'including', 'tax', 'goods', 'boxes', 'breaking911', 'propaganda', 'schools', 'tens', 'great', 'life', 'gavinnewsom', 'liberals', 'eggs', 'msnbc', 'joebiden', 'defend', 'repmtg', 'sons', 'securing', 'amid', 'little', 'veterans', 'laughing', 'does', 'election', 'strikes', 'takes'}\n",
      "\n",
      "\n",
      "\n"
     ]
    }
   ],
   "source": [
    "cluster_keywords = dict()\n",
    "\n",
    "groups_keyword = dict()\n",
    "\n",
    "for clus in set(user_cluster['Cluster']):\n",
    "    users = user_cluster[user_cluster['Cluster'] == clus]['users'].values.tolist()\n",
    "    keywords = get_keywords_of_cluster(users,x_)\n",
    "    if len(users) >= 2 :\n",
    "        groups_keyword[clus] = keywords\n",
    "    cluster_keywords[clus] = keywords\n",
    "    \n",
    "    \n",
    "for key in groups_keyword :\n",
    "    print(key,groups_keyword[key])\n",
    "    print(\"\\n\\n\")"
   ]
  }
 ],
 "metadata": {
  "kernelspec": {
   "display_name": "Python 3 (ipykernel)",
   "language": "python",
   "name": "python3"
  },
  "language_info": {
   "codemirror_mode": {
    "name": "ipython",
    "version": 3
   },
   "file_extension": ".py",
   "mimetype": "text/x-python",
   "name": "python",
   "nbconvert_exporter": "python",
   "pygments_lexer": "ipython3",
   "version": "3.9.6"
  },
  "vscode": {
   "interpreter": {
    "hash": "aee8b7b246df8f9039afb4144a1f6fd8d2ca17a180786b69acc140d282b71a49"
   }
  }
 },
 "nbformat": 4,
 "nbformat_minor": 2
}
